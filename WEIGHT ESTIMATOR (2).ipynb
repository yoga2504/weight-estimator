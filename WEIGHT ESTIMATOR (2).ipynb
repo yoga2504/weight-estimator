{
 "cells": [
  {
   "cell_type": "code",
   "execution_count": 76,
   "id": "72128985",
   "metadata": {},
   "outputs": [],
   "source": [
    "import pandas as pd\n",
    "import numpy as np\n",
    "import matplotlib.pyplot as plt\n",
    "import seaborn as sns\n",
    "import spacy\n",
    "from sklearn.feature_extraction.text import TfidfVectorizer\n",
    "import tensorflow as tf\n",
    "from tensorflow import keras\n",
    "from sklearn.preprocessing import MinMaxScaler\n",
    "from sklearn.model_selection import train_test_split\n",
    "from sklearn.ensemble import RandomForestClassifier\n",
    "from sklearn.neighbors import KNeighborsClassifier\n",
    "from sklearn.linear_model import LogisticRegression\n",
    "from sklearn.tree import DecisionTreeClassifier\n",
    "from sklearn.metrics import accuracy_score, confusion_matrix\n",
    "from sklearn.metrics import classification_report\n",
    "import pickle\n",
    "import joblib"
   ]
  },
  {
   "cell_type": "code",
   "execution_count": 77,
   "id": "d1734522",
   "metadata": {},
   "outputs": [
    {
     "data": {
      "text/html": [
       "<div>\n",
       "<style scoped>\n",
       "    .dataframe tbody tr th:only-of-type {\n",
       "        vertical-align: middle;\n",
       "    }\n",
       "\n",
       "    .dataframe tbody tr th {\n",
       "        vertical-align: top;\n",
       "    }\n",
       "\n",
       "    .dataframe thead th {\n",
       "        text-align: right;\n",
       "    }\n",
       "</style>\n",
       "<table border=\"1\" class=\"dataframe\">\n",
       "  <thead>\n",
       "    <tr style=\"text-align: right;\">\n",
       "      <th></th>\n",
       "      <th>WIDTH</th>\n",
       "      <th>BAYSPACINGS</th>\n",
       "      <th>CLEARHEIGHT</th>\n",
       "      <th>WINDSPEED</th>\n",
       "      <th>WEIGHT</th>\n",
       "    </tr>\n",
       "  </thead>\n",
       "  <tbody>\n",
       "    <tr>\n",
       "      <th>0</th>\n",
       "      <td>10</td>\n",
       "      <td>6</td>\n",
       "      <td>7</td>\n",
       "      <td>50</td>\n",
       "      <td>1.8</td>\n",
       "    </tr>\n",
       "    <tr>\n",
       "      <th>1</th>\n",
       "      <td>10</td>\n",
       "      <td>6</td>\n",
       "      <td>8</td>\n",
       "      <td>50</td>\n",
       "      <td>1.8</td>\n",
       "    </tr>\n",
       "    <tr>\n",
       "      <th>2</th>\n",
       "      <td>10</td>\n",
       "      <td>6</td>\n",
       "      <td>9</td>\n",
       "      <td>50</td>\n",
       "      <td>1.9</td>\n",
       "    </tr>\n",
       "    <tr>\n",
       "      <th>3</th>\n",
       "      <td>10</td>\n",
       "      <td>6</td>\n",
       "      <td>10</td>\n",
       "      <td>50</td>\n",
       "      <td>1.9</td>\n",
       "    </tr>\n",
       "    <tr>\n",
       "      <th>4</th>\n",
       "      <td>10</td>\n",
       "      <td>6</td>\n",
       "      <td>12</td>\n",
       "      <td>50</td>\n",
       "      <td>2.0</td>\n",
       "    </tr>\n",
       "    <tr>\n",
       "      <th>...</th>\n",
       "      <td>...</td>\n",
       "      <td>...</td>\n",
       "      <td>...</td>\n",
       "      <td>...</td>\n",
       "      <td>...</td>\n",
       "    </tr>\n",
       "    <tr>\n",
       "      <th>175</th>\n",
       "      <td>60</td>\n",
       "      <td>8</td>\n",
       "      <td>7</td>\n",
       "      <td>40</td>\n",
       "      <td>4.9</td>\n",
       "    </tr>\n",
       "    <tr>\n",
       "      <th>176</th>\n",
       "      <td>60</td>\n",
       "      <td>8</td>\n",
       "      <td>8</td>\n",
       "      <td>40</td>\n",
       "      <td>4.9</td>\n",
       "    </tr>\n",
       "    <tr>\n",
       "      <th>177</th>\n",
       "      <td>60</td>\n",
       "      <td>8</td>\n",
       "      <td>9</td>\n",
       "      <td>40</td>\n",
       "      <td>5.0</td>\n",
       "    </tr>\n",
       "    <tr>\n",
       "      <th>178</th>\n",
       "      <td>60</td>\n",
       "      <td>8</td>\n",
       "      <td>10</td>\n",
       "      <td>40</td>\n",
       "      <td>5.0</td>\n",
       "    </tr>\n",
       "    <tr>\n",
       "      <th>179</th>\n",
       "      <td>60</td>\n",
       "      <td>8</td>\n",
       "      <td>12</td>\n",
       "      <td>40</td>\n",
       "      <td>5.3</td>\n",
       "    </tr>\n",
       "  </tbody>\n",
       "</table>\n",
       "<p>180 rows × 5 columns</p>\n",
       "</div>"
      ],
      "text/plain": [
       "     WIDTH  BAYSPACINGS  CLEARHEIGHT  WINDSPEED  WEIGHT\n",
       "0       10            6            7         50     1.8\n",
       "1       10            6            8         50     1.8\n",
       "2       10            6            9         50     1.9\n",
       "3       10            6           10         50     1.9\n",
       "4       10            6           12         50     2.0\n",
       "..     ...          ...          ...        ...     ...\n",
       "175     60            8            7         40     4.9\n",
       "176     60            8            8         40     4.9\n",
       "177     60            8            9         40     5.0\n",
       "178     60            8           10         40     5.0\n",
       "179     60            8           12         40     5.3\n",
       "\n",
       "[180 rows x 5 columns]"
      ]
     },
     "execution_count": 77,
     "metadata": {},
     "output_type": "execute_result"
    }
   ],
   "source": [
    "df=pd.read_excel(\"AI.xlsx\")\n",
    "df"
   ]
  },
  {
   "cell_type": "code",
   "execution_count": 78,
   "id": "b9aac68d",
   "metadata": {},
   "outputs": [
    {
     "data": {
      "text/html": [
       "<div>\n",
       "<style scoped>\n",
       "    .dataframe tbody tr th:only-of-type {\n",
       "        vertical-align: middle;\n",
       "    }\n",
       "\n",
       "    .dataframe tbody tr th {\n",
       "        vertical-align: top;\n",
       "    }\n",
       "\n",
       "    .dataframe thead th {\n",
       "        text-align: right;\n",
       "    }\n",
       "</style>\n",
       "<table border=\"1\" class=\"dataframe\">\n",
       "  <thead>\n",
       "    <tr style=\"text-align: right;\">\n",
       "      <th></th>\n",
       "      <th>WIDTH</th>\n",
       "      <th>BAYSPACINGS</th>\n",
       "      <th>CLEARHEIGHT</th>\n",
       "      <th>WINDSPEED</th>\n",
       "      <th>WEIGHT</th>\n",
       "    </tr>\n",
       "  </thead>\n",
       "  <tbody>\n",
       "    <tr>\n",
       "      <th>0</th>\n",
       "      <td>10</td>\n",
       "      <td>6</td>\n",
       "      <td>7</td>\n",
       "      <td>50</td>\n",
       "      <td>1.8</td>\n",
       "    </tr>\n",
       "    <tr>\n",
       "      <th>1</th>\n",
       "      <td>10</td>\n",
       "      <td>6</td>\n",
       "      <td>8</td>\n",
       "      <td>50</td>\n",
       "      <td>1.8</td>\n",
       "    </tr>\n",
       "    <tr>\n",
       "      <th>2</th>\n",
       "      <td>10</td>\n",
       "      <td>6</td>\n",
       "      <td>9</td>\n",
       "      <td>50</td>\n",
       "      <td>1.9</td>\n",
       "    </tr>\n",
       "    <tr>\n",
       "      <th>3</th>\n",
       "      <td>10</td>\n",
       "      <td>6</td>\n",
       "      <td>10</td>\n",
       "      <td>50</td>\n",
       "      <td>1.9</td>\n",
       "    </tr>\n",
       "    <tr>\n",
       "      <th>4</th>\n",
       "      <td>10</td>\n",
       "      <td>6</td>\n",
       "      <td>12</td>\n",
       "      <td>50</td>\n",
       "      <td>2.0</td>\n",
       "    </tr>\n",
       "  </tbody>\n",
       "</table>\n",
       "</div>"
      ],
      "text/plain": [
       "   WIDTH  BAYSPACINGS  CLEARHEIGHT  WINDSPEED  WEIGHT\n",
       "0     10            6            7         50     1.8\n",
       "1     10            6            8         50     1.8\n",
       "2     10            6            9         50     1.9\n",
       "3     10            6           10         50     1.9\n",
       "4     10            6           12         50     2.0"
      ]
     },
     "execution_count": 78,
     "metadata": {},
     "output_type": "execute_result"
    }
   ],
   "source": [
    "df.head()"
   ]
  },
  {
   "cell_type": "code",
   "execution_count": 79,
   "id": "78627b3d",
   "metadata": {},
   "outputs": [
    {
     "data": {
      "text/plain": [
       "(180, 5)"
      ]
     },
     "execution_count": 79,
     "metadata": {},
     "output_type": "execute_result"
    }
   ],
   "source": [
    "df.shape"
   ]
  },
  {
   "cell_type": "code",
   "execution_count": 80,
   "id": "f67a3e14",
   "metadata": {},
   "outputs": [
    {
     "data": {
      "text/plain": [
       "WIDTH          0\n",
       "BAYSPACINGS    0\n",
       "CLEARHEIGHT    0\n",
       "WINDSPEED      0\n",
       "WEIGHT         0\n",
       "dtype: int64"
      ]
     },
     "execution_count": 80,
     "metadata": {},
     "output_type": "execute_result"
    }
   ],
   "source": [
    "df.isnull().sum()"
   ]
  },
  {
   "cell_type": "code",
   "execution_count": 81,
   "id": "f48bf3c4",
   "metadata": {},
   "outputs": [
    {
     "name": "stdout",
     "output_type": "stream",
     "text": [
      "<class 'pandas.core.frame.DataFrame'>\n",
      "RangeIndex: 180 entries, 0 to 179\n",
      "Data columns (total 5 columns):\n",
      " #   Column       Non-Null Count  Dtype  \n",
      "---  ------       --------------  -----  \n",
      " 0   WIDTH        180 non-null    int64  \n",
      " 1   BAYSPACINGS  180 non-null    int64  \n",
      " 2   CLEARHEIGHT  180 non-null    int64  \n",
      " 3   WINDSPEED    180 non-null    int64  \n",
      " 4   WEIGHT       180 non-null    float64\n",
      "dtypes: float64(1), int64(4)\n",
      "memory usage: 7.2 KB\n"
     ]
    }
   ],
   "source": [
    "df.info()"
   ]
  },
  {
   "cell_type": "code",
   "execution_count": 82,
   "id": "5962a212",
   "metadata": {},
   "outputs": [
    {
     "data": {
      "text/html": [
       "<div>\n",
       "<style scoped>\n",
       "    .dataframe tbody tr th:only-of-type {\n",
       "        vertical-align: middle;\n",
       "    }\n",
       "\n",
       "    .dataframe tbody tr th {\n",
       "        vertical-align: top;\n",
       "    }\n",
       "\n",
       "    .dataframe thead th {\n",
       "        text-align: right;\n",
       "    }\n",
       "</style>\n",
       "<table border=\"1\" class=\"dataframe\">\n",
       "  <thead>\n",
       "    <tr style=\"text-align: right;\">\n",
       "      <th></th>\n",
       "      <th>WIDTH</th>\n",
       "      <th>BAYSPACINGS</th>\n",
       "      <th>CLEARHEIGHT</th>\n",
       "      <th>WINDSPEED</th>\n",
       "      <th>WEIGHT</th>\n",
       "    </tr>\n",
       "  </thead>\n",
       "  <tbody>\n",
       "    <tr>\n",
       "      <th>count</th>\n",
       "      <td>180.000000</td>\n",
       "      <td>180.000000</td>\n",
       "      <td>180.000000</td>\n",
       "      <td>180.000000</td>\n",
       "      <td>180.000000</td>\n",
       "    </tr>\n",
       "    <tr>\n",
       "      <th>mean</th>\n",
       "      <td>35.000000</td>\n",
       "      <td>7.000000</td>\n",
       "      <td>9.200000</td>\n",
       "      <td>45.000000</td>\n",
       "      <td>3.620000</td>\n",
       "    </tr>\n",
       "    <tr>\n",
       "      <th>std</th>\n",
       "      <td>17.125889</td>\n",
       "      <td>0.818774</td>\n",
       "      <td>1.725264</td>\n",
       "      <td>5.013947</td>\n",
       "      <td>1.065424</td>\n",
       "    </tr>\n",
       "    <tr>\n",
       "      <th>min</th>\n",
       "      <td>10.000000</td>\n",
       "      <td>6.000000</td>\n",
       "      <td>7.000000</td>\n",
       "      <td>40.000000</td>\n",
       "      <td>1.700000</td>\n",
       "    </tr>\n",
       "    <tr>\n",
       "      <th>25%</th>\n",
       "      <td>20.000000</td>\n",
       "      <td>6.000000</td>\n",
       "      <td>8.000000</td>\n",
       "      <td>40.000000</td>\n",
       "      <td>2.800000</td>\n",
       "    </tr>\n",
       "    <tr>\n",
       "      <th>50%</th>\n",
       "      <td>35.000000</td>\n",
       "      <td>7.000000</td>\n",
       "      <td>9.000000</td>\n",
       "      <td>45.000000</td>\n",
       "      <td>3.600000</td>\n",
       "    </tr>\n",
       "    <tr>\n",
       "      <th>75%</th>\n",
       "      <td>50.000000</td>\n",
       "      <td>8.000000</td>\n",
       "      <td>10.000000</td>\n",
       "      <td>50.000000</td>\n",
       "      <td>4.700000</td>\n",
       "    </tr>\n",
       "    <tr>\n",
       "      <th>max</th>\n",
       "      <td>60.000000</td>\n",
       "      <td>8.000000</td>\n",
       "      <td>12.000000</td>\n",
       "      <td>50.000000</td>\n",
       "      <td>5.400000</td>\n",
       "    </tr>\n",
       "  </tbody>\n",
       "</table>\n",
       "</div>"
      ],
      "text/plain": [
       "            WIDTH  BAYSPACINGS  CLEARHEIGHT   WINDSPEED      WEIGHT\n",
       "count  180.000000   180.000000   180.000000  180.000000  180.000000\n",
       "mean    35.000000     7.000000     9.200000   45.000000    3.620000\n",
       "std     17.125889     0.818774     1.725264    5.013947    1.065424\n",
       "min     10.000000     6.000000     7.000000   40.000000    1.700000\n",
       "25%     20.000000     6.000000     8.000000   40.000000    2.800000\n",
       "50%     35.000000     7.000000     9.000000   45.000000    3.600000\n",
       "75%     50.000000     8.000000    10.000000   50.000000    4.700000\n",
       "max     60.000000     8.000000    12.000000   50.000000    5.400000"
      ]
     },
     "execution_count": 82,
     "metadata": {},
     "output_type": "execute_result"
    }
   ],
   "source": [
    "df.describe()"
   ]
  },
  {
   "cell_type": "code",
   "execution_count": 83,
   "id": "600d3db7",
   "metadata": {},
   "outputs": [
    {
     "data": {
      "text/plain": [
       "WIDTH          0\n",
       "BAYSPACINGS    0\n",
       "CLEARHEIGHT    0\n",
       "WINDSPEED      0\n",
       "WEIGHT         0\n",
       "dtype: int64"
      ]
     },
     "execution_count": 83,
     "metadata": {},
     "output_type": "execute_result"
    }
   ],
   "source": [
    "df.isnull().sum()"
   ]
  },
  {
   "cell_type": "code",
   "execution_count": 84,
   "id": "3a259ce8",
   "metadata": {},
   "outputs": [
    {
     "name": "stderr",
     "output_type": "stream",
     "text": [
      "C:\\Users\\CHARUTHA MURARI S\\AppData\\Local\\Temp\\ipykernel_15384\\3302827146.py:2: UserWarning: \n",
      "\n",
      "`distplot` is a deprecated function and will be removed in seaborn v0.14.0.\n",
      "\n",
      "Please adapt your code to use either `displot` (a figure-level function with\n",
      "similar flexibility) or `histplot` (an axes-level function for histograms).\n",
      "\n",
      "For a guide to updating your code to use the new functions, please see\n",
      "https://gist.github.com/mwaskom/de44147ed2974457ad6372750bbe5751\n",
      "\n",
      "  sns.distplot(df[\"WIDTH\"])\n"
     ]
    },
    {
     "data": {
      "text/plain": [
       "<Axes: xlabel='WIDTH', ylabel='Density'>"
      ]
     },
     "execution_count": 84,
     "metadata": {},
     "output_type": "execute_result"
    },
    {
     "data": {
      "image/png": "[encoded data removed]",
      "text/plain": [
       "<Figure size 640x480 with 1 Axes>"
      ]
     },
     "metadata": {},
     "output_type": "display_data"
    }
   ],
   "source": [
    "#Data Visualization.\n",
    "sns.distplot(df[\"WIDTH\"])"
   ]
  },
  {
   "cell_type": "code",
   "execution_count": 85,
   "id": "20adf4d5",
   "metadata": {},
   "outputs": [
    {
     "data": {
      "text/html": [
       "<div>\n",
       "<style scoped>\n",
       "    .dataframe tbody tr th:only-of-type {\n",
       "        vertical-align: middle;\n",
       "    }\n",
       "\n",
       "    .dataframe tbody tr th {\n",
       "        vertical-align: top;\n",
       "    }\n",
       "\n",
       "    .dataframe thead th {\n",
       "        text-align: right;\n",
       "    }\n",
       "</style>\n",
       "<table border=\"1\" class=\"dataframe\">\n",
       "  <thead>\n",
       "    <tr style=\"text-align: right;\">\n",
       "      <th></th>\n",
       "      <th>WIDTH</th>\n",
       "      <th>BAYSPACINGS</th>\n",
       "      <th>CLEARHEIGHT</th>\n",
       "      <th>WINDSPEED</th>\n",
       "      <th>WEIGHT</th>\n",
       "    </tr>\n",
       "  </thead>\n",
       "  <tbody>\n",
       "    <tr>\n",
       "      <th>WIDTH</th>\n",
       "      <td>1.000000e+00</td>\n",
       "      <td>-1.051668e-15</td>\n",
       "      <td>-9.646125e-16</td>\n",
       "      <td>-1.294382e-17</td>\n",
       "      <td>0.965986</td>\n",
       "    </tr>\n",
       "    <tr>\n",
       "      <th>BAYSPACINGS</th>\n",
       "      <td>-1.051668e-15</td>\n",
       "      <td>1.000000e+00</td>\n",
       "      <td>-1.334784e-16</td>\n",
       "      <td>1.371827e-15</td>\n",
       "      <td>0.156261</td>\n",
       "    </tr>\n",
       "    <tr>\n",
       "      <th>CLEARHEIGHT</th>\n",
       "      <td>-9.646125e-16</td>\n",
       "      <td>-1.334784e-16</td>\n",
       "      <td>1.000000e+00</td>\n",
       "      <td>1.686395e-15</td>\n",
       "      <td>0.118775</td>\n",
       "    </tr>\n",
       "    <tr>\n",
       "      <th>WINDSPEED</th>\n",
       "      <td>-1.294382e-17</td>\n",
       "      <td>1.371827e-15</td>\n",
       "      <td>1.686395e-15</td>\n",
       "      <td>1.000000e+00</td>\n",
       "      <td>0.047061</td>\n",
       "    </tr>\n",
       "    <tr>\n",
       "      <th>WEIGHT</th>\n",
       "      <td>9.659857e-01</td>\n",
       "      <td>1.562608e-01</td>\n",
       "      <td>1.187746e-01</td>\n",
       "      <td>4.706057e-02</td>\n",
       "      <td>1.000000</td>\n",
       "    </tr>\n",
       "  </tbody>\n",
       "</table>\n",
       "</div>"
      ],
      "text/plain": [
       "                    WIDTH   BAYSPACINGS   CLEARHEIGHT     WINDSPEED    WEIGHT\n",
       "WIDTH        1.000000e+00 -1.051668e-15 -9.646125e-16 -1.294382e-17  0.965986\n",
       "BAYSPACINGS -1.051668e-15  1.000000e+00 -1.334784e-16  1.371827e-15  0.156261\n",
       "CLEARHEIGHT -9.646125e-16 -1.334784e-16  1.000000e+00  1.686395e-15  0.118775\n",
       "WINDSPEED   -1.294382e-17  1.371827e-15  1.686395e-15  1.000000e+00  0.047061\n",
       "WEIGHT       9.659857e-01  1.562608e-01  1.187746e-01  4.706057e-02  1.000000"
      ]
     },
     "execution_count": 85,
     "metadata": {},
     "output_type": "execute_result"
    }
   ],
   "source": [
    "df.corr()"
   ]
  },
  {
   "cell_type": "code",
   "execution_count": 86,
   "id": "e60777c4",
   "metadata": {},
   "outputs": [
    {
     "data": {
      "text/plain": [
       "<Axes: >"
      ]
     },
     "execution_count": 86,
     "metadata": {},
     "output_type": "execute_result"
    },
    {
     "data": {
      "image/png": "[encoded data removed]",
      "text/plain": [
       "<Figure size 640x480 with 2 Axes>"
      ]
     },
     "metadata": {},
     "output_type": "display_data"
    }
   ],
   "source": [
    "sns.heatmap(df.corr(),annot=True)"
   ]
  },
  {
   "cell_type": "code",
   "execution_count": 87,
   "id": "4cc412d3",
   "metadata": {},
   "outputs": [
    {
     "data": {
      "text/plain": [
       "<Axes: >"
      ]
     },
     "execution_count": 87,
     "metadata": {},
     "output_type": "execute_result"
    },
    {
     "data": {
      "image/png": "[encoded data removed]",
      "text/plain": [
       "<Figure size 640x480 with 1 Axes>"
      ]
     },
     "metadata": {},
     "output_type": "display_data"
    }
   ],
   "source": [
    "#Check for outliers\n",
    "sns.boxplot(df.BAYSPACINGS)"
   ]
  },
  {
   "cell_type": "code",
   "execution_count": 88,
   "id": "ac243c68",
   "metadata": {},
   "outputs": [
    {
     "data": {
      "text/plain": [
       "<Axes: >"
      ]
     },
     "execution_count": 88,
     "metadata": {},
     "output_type": "execute_result"
    },
    {
     "data": {
      "image/png": "[encoded data removed]",
      "text/plain": [
       "<Figure size 640x480 with 1 Axes>"
      ]
     },
     "metadata": {},
     "output_type": "display_data"
    }
   ],
   "source": [
    "sns.boxplot(df.CLEARHEIGHT)"
   ]
  },
  {
   "cell_type": "code",
   "execution_count": 89,
   "id": "5d9d054e",
   "metadata": {},
   "outputs": [
    {
     "data": {
      "text/plain": [
       "<Axes: >"
      ]
     },
     "execution_count": 89,
     "metadata": {},
     "output_type": "execute_result"
    },
    {
     "data": {
      "image/png": "[encoded data removed]",
      "text/plain": [
       "<Figure size 640x480 with 1 Axes>"
      ]
     },
     "metadata": {},
     "output_type": "display_data"
    }
   ],
   "source": [
    "sns.boxplot(df.WINDSPEED)"
   ]
  },
  {
   "cell_type": "code",
   "execution_count": 90,
   "id": "b071fafc",
   "metadata": {},
   "outputs": [
    {
     "data": {
      "text/plain": [
       "<Axes: >"
      ]
     },
     "execution_count": 90,
     "metadata": {},
     "output_type": "execute_result"
    },
    {
     "data": {
      "image/png": "[encoded data removed]",
      "text/plain": [
       "<Figure size 640x480 with 1 Axes>"
      ]
     },
     "metadata": {},
     "output_type": "display_data"
    }
   ],
   "source": [
    "sns.boxplot(df.WIDTH)"
   ]
  },
  {
   "cell_type": "code",
   "execution_count": 91,
   "id": "d00a7466",
   "metadata": {},
   "outputs": [
    {
     "data": {
      "text/plain": [
       "<Axes: >"
      ]
     },
     "execution_count": 91,
     "metadata": {},
     "output_type": "execute_result"
    },
    {
     "data": {
      "image/png": "[encoded data removed]",
      "text/plain": [
       "<Figure size 640x480 with 1 Axes>"
      ]
     },
     "metadata": {},
     "output_type": "display_data"
    }
   ],
   "source": [
    "sns.boxplot(df.WEIGHT)"
   ]
  },
  {
   "cell_type": "code",
   "execution_count": 92,
   "id": "4a46aa09",
   "metadata": {},
   "outputs": [
    {
     "data": {
      "text/html": [
       "<div>\n",
       "<style scoped>\n",
       "    .dataframe tbody tr th:only-of-type {\n",
       "        vertical-align: middle;\n",
       "    }\n",
       "\n",
       "    .dataframe tbody tr th {\n",
       "        vertical-align: top;\n",
       "    }\n",
       "\n",
       "    .dataframe thead th {\n",
       "        text-align: right;\n",
       "    }\n",
       "</style>\n",
       "<table border=\"1\" class=\"dataframe\">\n",
       "  <thead>\n",
       "    <tr style=\"text-align: right;\">\n",
       "      <th></th>\n",
       "      <th>WIDTH</th>\n",
       "      <th>BAYSPACINGS</th>\n",
       "      <th>CLEARHEIGHT</th>\n",
       "      <th>WINDSPEED</th>\n",
       "      <th>WEIGHT</th>\n",
       "    </tr>\n",
       "  </thead>\n",
       "  <tbody>\n",
       "    <tr>\n",
       "      <th>0</th>\n",
       "      <td>10</td>\n",
       "      <td>6</td>\n",
       "      <td>7</td>\n",
       "      <td>50</td>\n",
       "      <td>1.8</td>\n",
       "    </tr>\n",
       "    <tr>\n",
       "      <th>1</th>\n",
       "      <td>10</td>\n",
       "      <td>6</td>\n",
       "      <td>8</td>\n",
       "      <td>50</td>\n",
       "      <td>1.8</td>\n",
       "    </tr>\n",
       "    <tr>\n",
       "      <th>2</th>\n",
       "      <td>10</td>\n",
       "      <td>6</td>\n",
       "      <td>9</td>\n",
       "      <td>50</td>\n",
       "      <td>1.9</td>\n",
       "    </tr>\n",
       "    <tr>\n",
       "      <th>3</th>\n",
       "      <td>10</td>\n",
       "      <td>6</td>\n",
       "      <td>10</td>\n",
       "      <td>50</td>\n",
       "      <td>1.9</td>\n",
       "    </tr>\n",
       "    <tr>\n",
       "      <th>4</th>\n",
       "      <td>10</td>\n",
       "      <td>6</td>\n",
       "      <td>12</td>\n",
       "      <td>50</td>\n",
       "      <td>2.0</td>\n",
       "    </tr>\n",
       "  </tbody>\n",
       "</table>\n",
       "</div>"
      ],
      "text/plain": [
       "   WIDTH  BAYSPACINGS  CLEARHEIGHT  WINDSPEED  WEIGHT\n",
       "0     10            6            7         50     1.8\n",
       "1     10            6            8         50     1.8\n",
       "2     10            6            9         50     1.9\n",
       "3     10            6           10         50     1.9\n",
       "4     10            6           12         50     2.0"
      ]
     },
     "execution_count": 92,
     "metadata": {},
     "output_type": "execute_result"
    }
   ],
   "source": [
    "#split dependent and independent variables\n",
    "df.head()"
   ]
  },
  {
   "cell_type": "code",
   "execution_count": 93,
   "id": "0a9667d8",
   "metadata": {},
   "outputs": [
    {
     "data": {
      "text/html": [
       "<div>\n",
       "<style scoped>\n",
       "    .dataframe tbody tr th:only-of-type {\n",
       "        vertical-align: middle;\n",
       "    }\n",
       "\n",
       "    .dataframe tbody tr th {\n",
       "        vertical-align: top;\n",
       "    }\n",
       "\n",
       "    .dataframe thead th {\n",
       "        text-align: right;\n",
       "    }\n",
       "</style>\n",
       "<table border=\"1\" class=\"dataframe\">\n",
       "  <thead>\n",
       "    <tr style=\"text-align: right;\">\n",
       "      <th></th>\n",
       "      <th>WIDTH</th>\n",
       "      <th>BAYSPACINGS</th>\n",
       "      <th>CLEARHEIGHT</th>\n",
       "      <th>WINDSPEED</th>\n",
       "    </tr>\n",
       "  </thead>\n",
       "  <tbody>\n",
       "    <tr>\n",
       "      <th>0</th>\n",
       "      <td>10</td>\n",
       "      <td>6</td>\n",
       "      <td>7</td>\n",
       "      <td>50</td>\n",
       "    </tr>\n",
       "    <tr>\n",
       "      <th>1</th>\n",
       "      <td>10</td>\n",
       "      <td>6</td>\n",
       "      <td>8</td>\n",
       "      <td>50</td>\n",
       "    </tr>\n",
       "    <tr>\n",
       "      <th>2</th>\n",
       "      <td>10</td>\n",
       "      <td>6</td>\n",
       "      <td>9</td>\n",
       "      <td>50</td>\n",
       "    </tr>\n",
       "    <tr>\n",
       "      <th>3</th>\n",
       "      <td>10</td>\n",
       "      <td>6</td>\n",
       "      <td>10</td>\n",
       "      <td>50</td>\n",
       "    </tr>\n",
       "    <tr>\n",
       "      <th>4</th>\n",
       "      <td>10</td>\n",
       "      <td>6</td>\n",
       "      <td>12</td>\n",
       "      <td>50</td>\n",
       "    </tr>\n",
       "  </tbody>\n",
       "</table>\n",
       "</div>"
      ],
      "text/plain": [
       "   WIDTH  BAYSPACINGS  CLEARHEIGHT  WINDSPEED\n",
       "0     10            6            7         50\n",
       "1     10            6            8         50\n",
       "2     10            6            9         50\n",
       "3     10            6           10         50\n",
       "4     10            6           12         50"
      ]
     },
     "execution_count": 93,
     "metadata": {},
     "output_type": "execute_result"
    }
   ],
   "source": [
    "x=df.iloc[:,0:4]\n",
    "#consider 1st to 4th column\n",
    "x.head()"
   ]
  },
  {
   "cell_type": "code",
   "execution_count": 94,
   "id": "e4719c14",
   "metadata": {},
   "outputs": [
    {
     "data": {
      "text/plain": [
       "0    1.8\n",
       "1    1.8\n",
       "2    1.9\n",
       "3    1.9\n",
       "4    2.0\n",
       "Name: WEIGHT, dtype: float64"
      ]
     },
     "execution_count": 94,
     "metadata": {},
     "output_type": "execute_result"
    }
   ],
   "source": [
    "y=df.WEIGHT\n",
    "y.head()"
   ]
  },
  {
   "cell_type": "code",
   "execution_count": 95,
   "id": "534c3255",
   "metadata": {},
   "outputs": [],
   "source": [
    "#using min-max scaler \n",
    "from sklearn.preprocessing import MinMaxScaler\n",
    "ms=MinMaxScaler()\n",
    "x_scaled=pd.DataFrame(ms.fit_transform(x),columns=x.columns)\n",
    "#when you run this code, everything would be converted to numpy array \n",
    "#then we convert it to a DataFrame"
   ]
  },
  {
   "cell_type": "code",
   "execution_count": 96,
   "id": "deec73de",
   "metadata": {},
   "outputs": [
    {
     "data": {
      "text/html": [
       "<div>\n",
       "<style scoped>\n",
       "    .dataframe tbody tr th:only-of-type {\n",
       "        vertical-align: middle;\n",
       "    }\n",
       "\n",
       "    .dataframe tbody tr th {\n",
       "        vertical-align: top;\n",
       "    }\n",
       "\n",
       "    .dataframe thead th {\n",
       "        text-align: right;\n",
       "    }\n",
       "</style>\n",
       "<table border=\"1\" class=\"dataframe\">\n",
       "  <thead>\n",
       "    <tr style=\"text-align: right;\">\n",
       "      <th></th>\n",
       "      <th>WIDTH</th>\n",
       "      <th>BAYSPACINGS</th>\n",
       "      <th>CLEARHEIGHT</th>\n",
       "      <th>WINDSPEED</th>\n",
       "    </tr>\n",
       "  </thead>\n",
       "  <tbody>\n",
       "    <tr>\n",
       "      <th>0</th>\n",
       "      <td>0.0</td>\n",
       "      <td>0.0</td>\n",
       "      <td>0.0</td>\n",
       "      <td>1.0</td>\n",
       "    </tr>\n",
       "    <tr>\n",
       "      <th>1</th>\n",
       "      <td>0.0</td>\n",
       "      <td>0.0</td>\n",
       "      <td>0.2</td>\n",
       "      <td>1.0</td>\n",
       "    </tr>\n",
       "    <tr>\n",
       "      <th>2</th>\n",
       "      <td>0.0</td>\n",
       "      <td>0.0</td>\n",
       "      <td>0.4</td>\n",
       "      <td>1.0</td>\n",
       "    </tr>\n",
       "    <tr>\n",
       "      <th>3</th>\n",
       "      <td>0.0</td>\n",
       "      <td>0.0</td>\n",
       "      <td>0.6</td>\n",
       "      <td>1.0</td>\n",
       "    </tr>\n",
       "    <tr>\n",
       "      <th>4</th>\n",
       "      <td>0.0</td>\n",
       "      <td>0.0</td>\n",
       "      <td>1.0</td>\n",
       "      <td>1.0</td>\n",
       "    </tr>\n",
       "    <tr>\n",
       "      <th>...</th>\n",
       "      <td>...</td>\n",
       "      <td>...</td>\n",
       "      <td>...</td>\n",
       "      <td>...</td>\n",
       "    </tr>\n",
       "    <tr>\n",
       "      <th>175</th>\n",
       "      <td>1.0</td>\n",
       "      <td>1.0</td>\n",
       "      <td>0.0</td>\n",
       "      <td>0.0</td>\n",
       "    </tr>\n",
       "    <tr>\n",
       "      <th>176</th>\n",
       "      <td>1.0</td>\n",
       "      <td>1.0</td>\n",
       "      <td>0.2</td>\n",
       "      <td>0.0</td>\n",
       "    </tr>\n",
       "    <tr>\n",
       "      <th>177</th>\n",
       "      <td>1.0</td>\n",
       "      <td>1.0</td>\n",
       "      <td>0.4</td>\n",
       "      <td>0.0</td>\n",
       "    </tr>\n",
       "    <tr>\n",
       "      <th>178</th>\n",
       "      <td>1.0</td>\n",
       "      <td>1.0</td>\n",
       "      <td>0.6</td>\n",
       "      <td>0.0</td>\n",
       "    </tr>\n",
       "    <tr>\n",
       "      <th>179</th>\n",
       "      <td>1.0</td>\n",
       "      <td>1.0</td>\n",
       "      <td>1.0</td>\n",
       "      <td>0.0</td>\n",
       "    </tr>\n",
       "  </tbody>\n",
       "</table>\n",
       "<p>180 rows × 4 columns</p>\n",
       "</div>"
      ],
      "text/plain": [
       "     WIDTH  BAYSPACINGS  CLEARHEIGHT  WINDSPEED\n",
       "0      0.0          0.0          0.0        1.0\n",
       "1      0.0          0.0          0.2        1.0\n",
       "2      0.0          0.0          0.4        1.0\n",
       "3      0.0          0.0          0.6        1.0\n",
       "4      0.0          0.0          1.0        1.0\n",
       "..     ...          ...          ...        ...\n",
       "175    1.0          1.0          0.0        0.0\n",
       "176    1.0          1.0          0.2        0.0\n",
       "177    1.0          1.0          0.4        0.0\n",
       "178    1.0          1.0          0.6        0.0\n",
       "179    1.0          1.0          1.0        0.0\n",
       "\n",
       "[180 rows x 4 columns]"
      ]
     },
     "execution_count": 96,
     "metadata": {},
     "output_type": "execute_result"
    }
   ],
   "source": [
    "x_scaled"
   ]
  },
  {
   "cell_type": "code",
   "execution_count": 97,
   "id": "6b653731",
   "metadata": {},
   "outputs": [],
   "source": [
    "#Splitting Data into Train and Test.\n",
    "from sklearn.model_selection import train_test_split\n",
    "x_train,x_test,y_train,y_test=train_test_split(x_scaled,y,test_size=0.2,random_state=0)"
   ]
  },
  {
   "cell_type": "code",
   "execution_count": 98,
   "id": "aa5ba5ee",
   "metadata": {},
   "outputs": [
    {
     "data": {
      "text/plain": [
       "((144, 4), (144, 4), (144,), (36,))"
      ]
     },
     "execution_count": 98,
     "metadata": {},
     "output_type": "execute_result"
    }
   ],
   "source": [
    "x_train.shape,x_train.shape,y_train.shape,y_test.shape"
   ]
  },
  {
   "cell_type": "code",
   "execution_count": 99,
   "id": "881c44b9",
   "metadata": {},
   "outputs": [
    {
     "name": "stdout",
     "output_type": "stream",
     "text": [
      "Mean Squared Error: 0.011944444444444417\n",
      "R2 Score: 0.9886453657248482\n"
     ]
    }
   ],
   "source": [
    "from sklearn.tree import DecisionTreeRegressor\n",
    "\n",
    "# Using Decision Tree Regressor instead of Classifier\n",
    "dtr = DecisionTreeRegressor()\n",
    "\n",
    "# Fit the model on the training data\n",
    "dtr.fit(x_train, y_train)\n",
    "\n",
    "# Predict on the test data\n",
    "y_pred = dtr.predict(x_test)\n",
    "\n",
    "# Evaluate the model\n",
    "from sklearn.metrics import mean_squared_error, r2_score\n",
    "\n",
    "mse = mean_squared_error(y_test, y_pred)\n",
    "r2 = r2_score(y_test, y_pred)\n",
    "\n",
    "print(\"Mean Squared Error:\", mse)\n",
    "print(\"R2 Score:\", r2)\n"
   ]
  },
  {
   "cell_type": "code",
   "execution_count": 100,
   "id": "cfaab605",
   "metadata": {},
   "outputs": [
    {
     "data": {
      "text/html": [
       "<div>\n",
       "<style scoped>\n",
       "    .dataframe tbody tr th:only-of-type {\n",
       "        vertical-align: middle;\n",
       "    }\n",
       "\n",
       "    .dataframe tbody tr th {\n",
       "        vertical-align: top;\n",
       "    }\n",
       "\n",
       "    .dataframe thead th {\n",
       "        text-align: right;\n",
       "    }\n",
       "</style>\n",
       "<table border=\"1\" class=\"dataframe\">\n",
       "  <thead>\n",
       "    <tr style=\"text-align: right;\">\n",
       "      <th></th>\n",
       "      <th>WIDTH</th>\n",
       "      <th>BAYSPACINGS</th>\n",
       "      <th>CLEARHEIGHT</th>\n",
       "      <th>WINDSPEED</th>\n",
       "    </tr>\n",
       "  </thead>\n",
       "  <tbody>\n",
       "    <tr>\n",
       "      <th>55</th>\n",
       "      <td>0.6</td>\n",
       "      <td>1.0</td>\n",
       "      <td>0.0</td>\n",
       "      <td>1.0</td>\n",
       "    </tr>\n",
       "    <tr>\n",
       "      <th>83</th>\n",
       "      <td>1.0</td>\n",
       "      <td>0.5</td>\n",
       "      <td>0.6</td>\n",
       "      <td>1.0</td>\n",
       "    </tr>\n",
       "    <tr>\n",
       "      <th>45</th>\n",
       "      <td>0.6</td>\n",
       "      <td>0.0</td>\n",
       "      <td>0.0</td>\n",
       "      <td>1.0</td>\n",
       "    </tr>\n",
       "    <tr>\n",
       "      <th>163</th>\n",
       "      <td>0.8</td>\n",
       "      <td>1.0</td>\n",
       "      <td>0.6</td>\n",
       "      <td>0.0</td>\n",
       "    </tr>\n",
       "    <tr>\n",
       "      <th>123</th>\n",
       "      <td>0.4</td>\n",
       "      <td>0.0</td>\n",
       "      <td>0.6</td>\n",
       "      <td>0.0</td>\n",
       "    </tr>\n",
       "  </tbody>\n",
       "</table>\n",
       "</div>"
      ],
      "text/plain": [
       "     WIDTH  BAYSPACINGS  CLEARHEIGHT  WINDSPEED\n",
       "55     0.6          1.0          0.0        1.0\n",
       "83     1.0          0.5          0.6        1.0\n",
       "45     0.6          0.0          0.0        1.0\n",
       "163    0.8          1.0          0.6        0.0\n",
       "123    0.4          0.0          0.6        0.0"
      ]
     },
     "execution_count": 100,
     "metadata": {},
     "output_type": "execute_result"
    }
   ],
   "source": [
    "x_train.head()"
   ]
  },
  {
   "cell_type": "code",
   "execution_count": 101,
   "id": "5c13d3f7",
   "metadata": {},
   "outputs": [
    {
     "data": {
      "text/plain": [
       "array([2.5, 1.9, 3.2, 4.7, 3.4, 4.8, 4. , 4.1, 4.9, 2.8, 3.4, 4.8, 4.8,\n",
       "       1.9, 2.9, 1.9, 5.2, 4.1, 3.3, 2.1, 4.2, 4.1, 4.8, 2.1, 3.2, 4.5,\n",
       "       2.9, 4.5, 4.8, 4.1, 3.8, 3. , 2.7, 3.6, 4.8, 1.9])"
      ]
     },
     "execution_count": 101,
     "metadata": {},
     "output_type": "execute_result"
    }
   ],
   "source": [
    "pred=dtr.predict(x_test)\n",
    "pred"
   ]
  },
  {
   "cell_type": "code",
   "execution_count": 102,
   "id": "ce044281",
   "metadata": {},
   "outputs": [
    {
     "data": {
      "text/plain": [
       "106    2.6\n",
       "7      2.0\n",
       "125    3.1\n",
       "160    4.7\n",
       "136    3.5\n",
       "71     4.8\n",
       "56     4.1\n",
       "151    4.3\n",
       "162    4.9\n",
       "108    2.7\n",
       "33     3.3\n",
       "153    4.6\n",
       "158    4.8\n",
       "5      1.9\n",
       "18     2.8\n",
       "92     1.8\n",
       "164    5.1\n",
       "143    4.0\n",
       "37     3.4\n",
       "101    2.0\n",
       "144    4.1\n",
       "60     4.2\n",
       "63     4.7\n",
       "4      2.0\n",
       "122    3.1\n",
       "165    4.4\n",
       "113    2.8\n",
       "166    4.4\n",
       "168    4.7\n",
       "61     4.4\n",
       "44     3.9\n",
       "26     3.0\n",
       "107    2.6\n",
       "131    3.5\n",
       "66     4.8\n",
       "8      2.0\n",
       "Name: WEIGHT, dtype: float64"
      ]
     },
     "execution_count": 102,
     "metadata": {},
     "output_type": "execute_result"
    }
   ],
   "source": [
    "#compare the predicted value with the actual y test values \n",
    "y_test"
   ]
  },
  {
   "cell_type": "code",
   "execution_count": 103,
   "id": "0a9d1aef",
   "metadata": {},
   "outputs": [
    {
     "data": {
      "text/html": [
       "<div>\n",
       "<style scoped>\n",
       "    .dataframe tbody tr th:only-of-type {\n",
       "        vertical-align: middle;\n",
       "    }\n",
       "\n",
       "    .dataframe tbody tr th {\n",
       "        vertical-align: top;\n",
       "    }\n",
       "\n",
       "    .dataframe thead th {\n",
       "        text-align: right;\n",
       "    }\n",
       "</style>\n",
       "<table border=\"1\" class=\"dataframe\">\n",
       "  <thead>\n",
       "    <tr style=\"text-align: right;\">\n",
       "      <th></th>\n",
       "      <th>WIDTH</th>\n",
       "      <th>BAYSPACINGS</th>\n",
       "      <th>CLEARHEIGHT</th>\n",
       "      <th>WINDSPEED</th>\n",
       "      <th>WEIGHT</th>\n",
       "    </tr>\n",
       "  </thead>\n",
       "  <tbody>\n",
       "    <tr>\n",
       "      <th>0</th>\n",
       "      <td>10</td>\n",
       "      <td>6</td>\n",
       "      <td>7</td>\n",
       "      <td>50</td>\n",
       "      <td>1.8</td>\n",
       "    </tr>\n",
       "    <tr>\n",
       "      <th>1</th>\n",
       "      <td>10</td>\n",
       "      <td>6</td>\n",
       "      <td>8</td>\n",
       "      <td>50</td>\n",
       "      <td>1.8</td>\n",
       "    </tr>\n",
       "    <tr>\n",
       "      <th>2</th>\n",
       "      <td>10</td>\n",
       "      <td>6</td>\n",
       "      <td>9</td>\n",
       "      <td>50</td>\n",
       "      <td>1.9</td>\n",
       "    </tr>\n",
       "    <tr>\n",
       "      <th>3</th>\n",
       "      <td>10</td>\n",
       "      <td>6</td>\n",
       "      <td>10</td>\n",
       "      <td>50</td>\n",
       "      <td>1.9</td>\n",
       "    </tr>\n",
       "    <tr>\n",
       "      <th>4</th>\n",
       "      <td>10</td>\n",
       "      <td>6</td>\n",
       "      <td>12</td>\n",
       "      <td>50</td>\n",
       "      <td>2.0</td>\n",
       "    </tr>\n",
       "    <tr>\n",
       "      <th>...</th>\n",
       "      <td>...</td>\n",
       "      <td>...</td>\n",
       "      <td>...</td>\n",
       "      <td>...</td>\n",
       "      <td>...</td>\n",
       "    </tr>\n",
       "    <tr>\n",
       "      <th>175</th>\n",
       "      <td>60</td>\n",
       "      <td>8</td>\n",
       "      <td>7</td>\n",
       "      <td>40</td>\n",
       "      <td>4.9</td>\n",
       "    </tr>\n",
       "    <tr>\n",
       "      <th>176</th>\n",
       "      <td>60</td>\n",
       "      <td>8</td>\n",
       "      <td>8</td>\n",
       "      <td>40</td>\n",
       "      <td>4.9</td>\n",
       "    </tr>\n",
       "    <tr>\n",
       "      <th>177</th>\n",
       "      <td>60</td>\n",
       "      <td>8</td>\n",
       "      <td>9</td>\n",
       "      <td>40</td>\n",
       "      <td>5.0</td>\n",
       "    </tr>\n",
       "    <tr>\n",
       "      <th>178</th>\n",
       "      <td>60</td>\n",
       "      <td>8</td>\n",
       "      <td>10</td>\n",
       "      <td>40</td>\n",
       "      <td>5.0</td>\n",
       "    </tr>\n",
       "    <tr>\n",
       "      <th>179</th>\n",
       "      <td>60</td>\n",
       "      <td>8</td>\n",
       "      <td>12</td>\n",
       "      <td>40</td>\n",
       "      <td>5.3</td>\n",
       "    </tr>\n",
       "  </tbody>\n",
       "</table>\n",
       "<p>180 rows × 5 columns</p>\n",
       "</div>"
      ],
      "text/plain": [
       "     WIDTH  BAYSPACINGS  CLEARHEIGHT  WINDSPEED  WEIGHT\n",
       "0       10            6            7         50     1.8\n",
       "1       10            6            8         50     1.8\n",
       "2       10            6            9         50     1.9\n",
       "3       10            6           10         50     1.9\n",
       "4       10            6           12         50     2.0\n",
       "..     ...          ...          ...        ...     ...\n",
       "175     60            8            7         40     4.9\n",
       "176     60            8            8         40     4.9\n",
       "177     60            8            9         40     5.0\n",
       "178     60            8           10         40     5.0\n",
       "179     60            8           12         40     5.3\n",
       "\n",
       "[180 rows x 5 columns]"
      ]
     },
     "execution_count": 103,
     "metadata": {},
     "output_type": "execute_result"
    }
   ],
   "source": [
    "df"
   ]
  },
  {
   "cell_type": "code",
   "execution_count": 104,
   "id": "3984995d",
   "metadata": {},
   "outputs": [],
   "source": [
    "#Accuracy score\n",
    "from sklearn.metrics import accuracy_score,confusion_matrix,classification_report,roc_auc_score,roc_curve"
   ]
  },
  {
   "cell_type": "markdown",
   "id": "1e50ae3f",
   "metadata": {},
   "source": [
    "accuracy_score function is used for classification problems and not regression problems. Since we are performing regression, we should use mean_squared_error and r2_score to evaluate the model performance, as shown in the code snippet above."
   ]
  },
  {
   "cell_type": "code",
   "execution_count": 105,
   "id": "b606bd32",
   "metadata": {},
   "outputs": [
    {
     "data": {
      "text/html": [
       "<div>\n",
       "<style scoped>\n",
       "    .dataframe tbody tr th:only-of-type {\n",
       "        vertical-align: middle;\n",
       "    }\n",
       "\n",
       "    .dataframe tbody tr th {\n",
       "        vertical-align: top;\n",
       "    }\n",
       "\n",
       "    .dataframe thead th {\n",
       "        text-align: right;\n",
       "    }\n",
       "</style>\n",
       "<table border=\"1\" class=\"dataframe\">\n",
       "  <thead>\n",
       "    <tr style=\"text-align: right;\">\n",
       "      <th>col_0</th>\n",
       "      <th>1.9</th>\n",
       "      <th>2.1</th>\n",
       "      <th>2.5</th>\n",
       "      <th>2.7</th>\n",
       "      <th>2.8</th>\n",
       "      <th>2.9</th>\n",
       "      <th>3.0</th>\n",
       "      <th>3.2</th>\n",
       "      <th>3.3</th>\n",
       "      <th>3.4</th>\n",
       "      <th>...</th>\n",
       "      <th>4.0</th>\n",
       "      <th>4.1</th>\n",
       "      <th>4.1</th>\n",
       "      <th>4.2</th>\n",
       "      <th>4.5</th>\n",
       "      <th>4.7</th>\n",
       "      <th>4.8</th>\n",
       "      <th>4.8</th>\n",
       "      <th>4.9</th>\n",
       "      <th>5.2</th>\n",
       "    </tr>\n",
       "    <tr>\n",
       "      <th>WEIGHT</th>\n",
       "      <th></th>\n",
       "      <th></th>\n",
       "      <th></th>\n",
       "      <th></th>\n",
       "      <th></th>\n",
       "      <th></th>\n",
       "      <th></th>\n",
       "      <th></th>\n",
       "      <th></th>\n",
       "      <th></th>\n",
       "      <th></th>\n",
       "      <th></th>\n",
       "      <th></th>\n",
       "      <th></th>\n",
       "      <th></th>\n",
       "      <th></th>\n",
       "      <th></th>\n",
       "      <th></th>\n",
       "      <th></th>\n",
       "      <th></th>\n",
       "      <th></th>\n",
       "    </tr>\n",
       "  </thead>\n",
       "  <tbody>\n",
       "    <tr>\n",
       "      <th>1.8</th>\n",
       "      <td>1</td>\n",
       "      <td>0</td>\n",
       "      <td>0</td>\n",
       "      <td>0</td>\n",
       "      <td>0</td>\n",
       "      <td>0</td>\n",
       "      <td>0</td>\n",
       "      <td>0</td>\n",
       "      <td>0</td>\n",
       "      <td>0</td>\n",
       "      <td>...</td>\n",
       "      <td>0</td>\n",
       "      <td>0</td>\n",
       "      <td>0</td>\n",
       "      <td>0</td>\n",
       "      <td>0</td>\n",
       "      <td>0</td>\n",
       "      <td>0</td>\n",
       "      <td>0</td>\n",
       "      <td>0</td>\n",
       "      <td>0</td>\n",
       "    </tr>\n",
       "    <tr>\n",
       "      <th>1.9</th>\n",
       "      <td>1</td>\n",
       "      <td>0</td>\n",
       "      <td>0</td>\n",
       "      <td>0</td>\n",
       "      <td>0</td>\n",
       "      <td>0</td>\n",
       "      <td>0</td>\n",
       "      <td>0</td>\n",
       "      <td>0</td>\n",
       "      <td>0</td>\n",
       "      <td>...</td>\n",
       "      <td>0</td>\n",
       "      <td>0</td>\n",
       "      <td>0</td>\n",
       "      <td>0</td>\n",
       "      <td>0</td>\n",
       "      <td>0</td>\n",
       "      <td>0</td>\n",
       "      <td>0</td>\n",
       "      <td>0</td>\n",
       "      <td>0</td>\n",
       "    </tr>\n",
       "    <tr>\n",
       "      <th>2.0</th>\n",
       "      <td>2</td>\n",
       "      <td>2</td>\n",
       "      <td>0</td>\n",
       "      <td>0</td>\n",
       "      <td>0</td>\n",
       "      <td>0</td>\n",
       "      <td>0</td>\n",
       "      <td>0</td>\n",
       "      <td>0</td>\n",
       "      <td>0</td>\n",
       "      <td>...</td>\n",
       "      <td>0</td>\n",
       "      <td>0</td>\n",
       "      <td>0</td>\n",
       "      <td>0</td>\n",
       "      <td>0</td>\n",
       "      <td>0</td>\n",
       "      <td>0</td>\n",
       "      <td>0</td>\n",
       "      <td>0</td>\n",
       "      <td>0</td>\n",
       "    </tr>\n",
       "    <tr>\n",
       "      <th>2.6</th>\n",
       "      <td>0</td>\n",
       "      <td>0</td>\n",
       "      <td>1</td>\n",
       "      <td>1</td>\n",
       "      <td>0</td>\n",
       "      <td>0</td>\n",
       "      <td>0</td>\n",
       "      <td>0</td>\n",
       "      <td>0</td>\n",
       "      <td>0</td>\n",
       "      <td>...</td>\n",
       "      <td>0</td>\n",
       "      <td>0</td>\n",
       "      <td>0</td>\n",
       "      <td>0</td>\n",
       "      <td>0</td>\n",
       "      <td>0</td>\n",
       "      <td>0</td>\n",
       "      <td>0</td>\n",
       "      <td>0</td>\n",
       "      <td>0</td>\n",
       "    </tr>\n",
       "    <tr>\n",
       "      <th>2.7</th>\n",
       "      <td>0</td>\n",
       "      <td>0</td>\n",
       "      <td>0</td>\n",
       "      <td>0</td>\n",
       "      <td>1</td>\n",
       "      <td>0</td>\n",
       "      <td>0</td>\n",
       "      <td>0</td>\n",
       "      <td>0</td>\n",
       "      <td>0</td>\n",
       "      <td>...</td>\n",
       "      <td>0</td>\n",
       "      <td>0</td>\n",
       "      <td>0</td>\n",
       "      <td>0</td>\n",
       "      <td>0</td>\n",
       "      <td>0</td>\n",
       "      <td>0</td>\n",
       "      <td>0</td>\n",
       "      <td>0</td>\n",
       "      <td>0</td>\n",
       "    </tr>\n",
       "    <tr>\n",
       "      <th>2.8</th>\n",
       "      <td>0</td>\n",
       "      <td>0</td>\n",
       "      <td>0</td>\n",
       "      <td>0</td>\n",
       "      <td>0</td>\n",
       "      <td>1</td>\n",
       "      <td>0</td>\n",
       "      <td>0</td>\n",
       "      <td>0</td>\n",
       "      <td>0</td>\n",
       "      <td>...</td>\n",
       "      <td>0</td>\n",
       "      <td>0</td>\n",
       "      <td>0</td>\n",
       "      <td>0</td>\n",
       "      <td>0</td>\n",
       "      <td>0</td>\n",
       "      <td>0</td>\n",
       "      <td>0</td>\n",
       "      <td>0</td>\n",
       "      <td>0</td>\n",
       "    </tr>\n",
       "    <tr>\n",
       "      <th>2.8</th>\n",
       "      <td>0</td>\n",
       "      <td>0</td>\n",
       "      <td>0</td>\n",
       "      <td>0</td>\n",
       "      <td>0</td>\n",
       "      <td>1</td>\n",
       "      <td>0</td>\n",
       "      <td>0</td>\n",
       "      <td>0</td>\n",
       "      <td>0</td>\n",
       "      <td>...</td>\n",
       "      <td>0</td>\n",
       "      <td>0</td>\n",
       "      <td>0</td>\n",
       "      <td>0</td>\n",
       "      <td>0</td>\n",
       "      <td>0</td>\n",
       "      <td>0</td>\n",
       "      <td>0</td>\n",
       "      <td>0</td>\n",
       "      <td>0</td>\n",
       "    </tr>\n",
       "    <tr>\n",
       "      <th>3.0</th>\n",
       "      <td>0</td>\n",
       "      <td>0</td>\n",
       "      <td>0</td>\n",
       "      <td>0</td>\n",
       "      <td>0</td>\n",
       "      <td>0</td>\n",
       "      <td>1</td>\n",
       "      <td>0</td>\n",
       "      <td>0</td>\n",
       "      <td>0</td>\n",
       "      <td>...</td>\n",
       "      <td>0</td>\n",
       "      <td>0</td>\n",
       "      <td>0</td>\n",
       "      <td>0</td>\n",
       "      <td>0</td>\n",
       "      <td>0</td>\n",
       "      <td>0</td>\n",
       "      <td>0</td>\n",
       "      <td>0</td>\n",
       "      <td>0</td>\n",
       "    </tr>\n",
       "    <tr>\n",
       "      <th>3.1</th>\n",
       "      <td>0</td>\n",
       "      <td>0</td>\n",
       "      <td>0</td>\n",
       "      <td>0</td>\n",
       "      <td>0</td>\n",
       "      <td>0</td>\n",
       "      <td>0</td>\n",
       "      <td>2</td>\n",
       "      <td>0</td>\n",
       "      <td>0</td>\n",
       "      <td>...</td>\n",
       "      <td>0</td>\n",
       "      <td>0</td>\n",
       "      <td>0</td>\n",
       "      <td>0</td>\n",
       "      <td>0</td>\n",
       "      <td>0</td>\n",
       "      <td>0</td>\n",
       "      <td>0</td>\n",
       "      <td>0</td>\n",
       "      <td>0</td>\n",
       "    </tr>\n",
       "    <tr>\n",
       "      <th>3.3</th>\n",
       "      <td>0</td>\n",
       "      <td>0</td>\n",
       "      <td>0</td>\n",
       "      <td>0</td>\n",
       "      <td>0</td>\n",
       "      <td>0</td>\n",
       "      <td>0</td>\n",
       "      <td>0</td>\n",
       "      <td>0</td>\n",
       "      <td>1</td>\n",
       "      <td>...</td>\n",
       "      <td>0</td>\n",
       "      <td>0</td>\n",
       "      <td>0</td>\n",
       "      <td>0</td>\n",
       "      <td>0</td>\n",
       "      <td>0</td>\n",
       "      <td>0</td>\n",
       "      <td>0</td>\n",
       "      <td>0</td>\n",
       "      <td>0</td>\n",
       "    </tr>\n",
       "    <tr>\n",
       "      <th>3.4</th>\n",
       "      <td>0</td>\n",
       "      <td>0</td>\n",
       "      <td>0</td>\n",
       "      <td>0</td>\n",
       "      <td>0</td>\n",
       "      <td>0</td>\n",
       "      <td>0</td>\n",
       "      <td>0</td>\n",
       "      <td>1</td>\n",
       "      <td>0</td>\n",
       "      <td>...</td>\n",
       "      <td>0</td>\n",
       "      <td>0</td>\n",
       "      <td>0</td>\n",
       "      <td>0</td>\n",
       "      <td>0</td>\n",
       "      <td>0</td>\n",
       "      <td>0</td>\n",
       "      <td>0</td>\n",
       "      <td>0</td>\n",
       "      <td>0</td>\n",
       "    </tr>\n",
       "    <tr>\n",
       "      <th>3.5</th>\n",
       "      <td>0</td>\n",
       "      <td>0</td>\n",
       "      <td>0</td>\n",
       "      <td>0</td>\n",
       "      <td>0</td>\n",
       "      <td>0</td>\n",
       "      <td>0</td>\n",
       "      <td>0</td>\n",
       "      <td>0</td>\n",
       "      <td>1</td>\n",
       "      <td>...</td>\n",
       "      <td>0</td>\n",
       "      <td>0</td>\n",
       "      <td>0</td>\n",
       "      <td>0</td>\n",
       "      <td>0</td>\n",
       "      <td>0</td>\n",
       "      <td>0</td>\n",
       "      <td>0</td>\n",
       "      <td>0</td>\n",
       "      <td>0</td>\n",
       "    </tr>\n",
       "    <tr>\n",
       "      <th>3.9</th>\n",
       "      <td>0</td>\n",
       "      <td>0</td>\n",
       "      <td>0</td>\n",
       "      <td>0</td>\n",
       "      <td>0</td>\n",
       "      <td>0</td>\n",
       "      <td>0</td>\n",
       "      <td>0</td>\n",
       "      <td>0</td>\n",
       "      <td>0</td>\n",
       "      <td>...</td>\n",
       "      <td>0</td>\n",
       "      <td>0</td>\n",
       "      <td>0</td>\n",
       "      <td>0</td>\n",
       "      <td>0</td>\n",
       "      <td>0</td>\n",
       "      <td>0</td>\n",
       "      <td>0</td>\n",
       "      <td>0</td>\n",
       "      <td>0</td>\n",
       "    </tr>\n",
       "    <tr>\n",
       "      <th>4.0</th>\n",
       "      <td>0</td>\n",
       "      <td>0</td>\n",
       "      <td>0</td>\n",
       "      <td>0</td>\n",
       "      <td>0</td>\n",
       "      <td>0</td>\n",
       "      <td>0</td>\n",
       "      <td>0</td>\n",
       "      <td>0</td>\n",
       "      <td>0</td>\n",
       "      <td>...</td>\n",
       "      <td>0</td>\n",
       "      <td>1</td>\n",
       "      <td>0</td>\n",
       "      <td>0</td>\n",
       "      <td>0</td>\n",
       "      <td>0</td>\n",
       "      <td>0</td>\n",
       "      <td>0</td>\n",
       "      <td>0</td>\n",
       "      <td>0</td>\n",
       "    </tr>\n",
       "    <tr>\n",
       "      <th>4.1</th>\n",
       "      <td>0</td>\n",
       "      <td>0</td>\n",
       "      <td>0</td>\n",
       "      <td>0</td>\n",
       "      <td>0</td>\n",
       "      <td>0</td>\n",
       "      <td>0</td>\n",
       "      <td>0</td>\n",
       "      <td>0</td>\n",
       "      <td>0</td>\n",
       "      <td>...</td>\n",
       "      <td>1</td>\n",
       "      <td>0</td>\n",
       "      <td>0</td>\n",
       "      <td>0</td>\n",
       "      <td>0</td>\n",
       "      <td>0</td>\n",
       "      <td>0</td>\n",
       "      <td>0</td>\n",
       "      <td>0</td>\n",
       "      <td>0</td>\n",
       "    </tr>\n",
       "    <tr>\n",
       "      <th>4.1</th>\n",
       "      <td>0</td>\n",
       "      <td>0</td>\n",
       "      <td>0</td>\n",
       "      <td>0</td>\n",
       "      <td>0</td>\n",
       "      <td>0</td>\n",
       "      <td>0</td>\n",
       "      <td>0</td>\n",
       "      <td>0</td>\n",
       "      <td>0</td>\n",
       "      <td>...</td>\n",
       "      <td>0</td>\n",
       "      <td>0</td>\n",
       "      <td>0</td>\n",
       "      <td>1</td>\n",
       "      <td>0</td>\n",
       "      <td>0</td>\n",
       "      <td>0</td>\n",
       "      <td>0</td>\n",
       "      <td>0</td>\n",
       "      <td>0</td>\n",
       "    </tr>\n",
       "    <tr>\n",
       "      <th>4.2</th>\n",
       "      <td>0</td>\n",
       "      <td>0</td>\n",
       "      <td>0</td>\n",
       "      <td>0</td>\n",
       "      <td>0</td>\n",
       "      <td>0</td>\n",
       "      <td>0</td>\n",
       "      <td>0</td>\n",
       "      <td>0</td>\n",
       "      <td>0</td>\n",
       "      <td>...</td>\n",
       "      <td>0</td>\n",
       "      <td>0</td>\n",
       "      <td>1</td>\n",
       "      <td>0</td>\n",
       "      <td>0</td>\n",
       "      <td>0</td>\n",
       "      <td>0</td>\n",
       "      <td>0</td>\n",
       "      <td>0</td>\n",
       "      <td>0</td>\n",
       "    </tr>\n",
       "    <tr>\n",
       "      <th>4.3</th>\n",
       "      <td>0</td>\n",
       "      <td>0</td>\n",
       "      <td>0</td>\n",
       "      <td>0</td>\n",
       "      <td>0</td>\n",
       "      <td>0</td>\n",
       "      <td>0</td>\n",
       "      <td>0</td>\n",
       "      <td>0</td>\n",
       "      <td>0</td>\n",
       "      <td>...</td>\n",
       "      <td>0</td>\n",
       "      <td>0</td>\n",
       "      <td>1</td>\n",
       "      <td>0</td>\n",
       "      <td>0</td>\n",
       "      <td>0</td>\n",
       "      <td>0</td>\n",
       "      <td>0</td>\n",
       "      <td>0</td>\n",
       "      <td>0</td>\n",
       "    </tr>\n",
       "    <tr>\n",
       "      <th>4.4</th>\n",
       "      <td>0</td>\n",
       "      <td>0</td>\n",
       "      <td>0</td>\n",
       "      <td>0</td>\n",
       "      <td>0</td>\n",
       "      <td>0</td>\n",
       "      <td>0</td>\n",
       "      <td>0</td>\n",
       "      <td>0</td>\n",
       "      <td>0</td>\n",
       "      <td>...</td>\n",
       "      <td>0</td>\n",
       "      <td>0</td>\n",
       "      <td>1</td>\n",
       "      <td>0</td>\n",
       "      <td>2</td>\n",
       "      <td>0</td>\n",
       "      <td>0</td>\n",
       "      <td>0</td>\n",
       "      <td>0</td>\n",
       "      <td>0</td>\n",
       "    </tr>\n",
       "    <tr>\n",
       "      <th>4.6</th>\n",
       "      <td>0</td>\n",
       "      <td>0</td>\n",
       "      <td>0</td>\n",
       "      <td>0</td>\n",
       "      <td>0</td>\n",
       "      <td>0</td>\n",
       "      <td>0</td>\n",
       "      <td>0</td>\n",
       "      <td>0</td>\n",
       "      <td>0</td>\n",
       "      <td>...</td>\n",
       "      <td>0</td>\n",
       "      <td>0</td>\n",
       "      <td>0</td>\n",
       "      <td>0</td>\n",
       "      <td>0</td>\n",
       "      <td>0</td>\n",
       "      <td>1</td>\n",
       "      <td>0</td>\n",
       "      <td>0</td>\n",
       "      <td>0</td>\n",
       "    </tr>\n",
       "    <tr>\n",
       "      <th>4.7</th>\n",
       "      <td>0</td>\n",
       "      <td>0</td>\n",
       "      <td>0</td>\n",
       "      <td>0</td>\n",
       "      <td>0</td>\n",
       "      <td>0</td>\n",
       "      <td>0</td>\n",
       "      <td>0</td>\n",
       "      <td>0</td>\n",
       "      <td>0</td>\n",
       "      <td>...</td>\n",
       "      <td>0</td>\n",
       "      <td>0</td>\n",
       "      <td>0</td>\n",
       "      <td>0</td>\n",
       "      <td>0</td>\n",
       "      <td>1</td>\n",
       "      <td>2</td>\n",
       "      <td>0</td>\n",
       "      <td>0</td>\n",
       "      <td>0</td>\n",
       "    </tr>\n",
       "    <tr>\n",
       "      <th>4.8</th>\n",
       "      <td>0</td>\n",
       "      <td>0</td>\n",
       "      <td>0</td>\n",
       "      <td>0</td>\n",
       "      <td>0</td>\n",
       "      <td>0</td>\n",
       "      <td>0</td>\n",
       "      <td>0</td>\n",
       "      <td>0</td>\n",
       "      <td>0</td>\n",
       "      <td>...</td>\n",
       "      <td>0</td>\n",
       "      <td>0</td>\n",
       "      <td>0</td>\n",
       "      <td>0</td>\n",
       "      <td>0</td>\n",
       "      <td>0</td>\n",
       "      <td>2</td>\n",
       "      <td>0</td>\n",
       "      <td>0</td>\n",
       "      <td>0</td>\n",
       "    </tr>\n",
       "    <tr>\n",
       "      <th>4.8</th>\n",
       "      <td>0</td>\n",
       "      <td>0</td>\n",
       "      <td>0</td>\n",
       "      <td>0</td>\n",
       "      <td>0</td>\n",
       "      <td>0</td>\n",
       "      <td>0</td>\n",
       "      <td>0</td>\n",
       "      <td>0</td>\n",
       "      <td>0</td>\n",
       "      <td>...</td>\n",
       "      <td>0</td>\n",
       "      <td>0</td>\n",
       "      <td>0</td>\n",
       "      <td>0</td>\n",
       "      <td>0</td>\n",
       "      <td>0</td>\n",
       "      <td>0</td>\n",
       "      <td>1</td>\n",
       "      <td>0</td>\n",
       "      <td>0</td>\n",
       "    </tr>\n",
       "    <tr>\n",
       "      <th>4.9</th>\n",
       "      <td>0</td>\n",
       "      <td>0</td>\n",
       "      <td>0</td>\n",
       "      <td>0</td>\n",
       "      <td>0</td>\n",
       "      <td>0</td>\n",
       "      <td>0</td>\n",
       "      <td>0</td>\n",
       "      <td>0</td>\n",
       "      <td>0</td>\n",
       "      <td>...</td>\n",
       "      <td>0</td>\n",
       "      <td>0</td>\n",
       "      <td>0</td>\n",
       "      <td>0</td>\n",
       "      <td>0</td>\n",
       "      <td>0</td>\n",
       "      <td>0</td>\n",
       "      <td>0</td>\n",
       "      <td>1</td>\n",
       "      <td>0</td>\n",
       "    </tr>\n",
       "    <tr>\n",
       "      <th>5.1</th>\n",
       "      <td>0</td>\n",
       "      <td>0</td>\n",
       "      <td>0</td>\n",
       "      <td>0</td>\n",
       "      <td>0</td>\n",
       "      <td>0</td>\n",
       "      <td>0</td>\n",
       "      <td>0</td>\n",
       "      <td>0</td>\n",
       "      <td>0</td>\n",
       "      <td>...</td>\n",
       "      <td>0</td>\n",
       "      <td>0</td>\n",
       "      <td>0</td>\n",
       "      <td>0</td>\n",
       "      <td>0</td>\n",
       "      <td>0</td>\n",
       "      <td>0</td>\n",
       "      <td>0</td>\n",
       "      <td>0</td>\n",
       "      <td>1</td>\n",
       "    </tr>\n",
       "  </tbody>\n",
       "</table>\n",
       "<p>25 rows × 22 columns</p>\n",
       "</div>"
      ],
      "text/plain": [
       "col_0   1.9  2.1  2.5  2.7  2.8  2.9  3.0  3.2  3.3  3.4  ...  4.0  4.1  4.1  \\\n",
       "WEIGHT                                                    ...                  \n",
       "1.8       1    0    0    0    0    0    0    0    0    0  ...    0    0    0   \n",
       "1.9       1    0    0    0    0    0    0    0    0    0  ...    0    0    0   \n",
       "2.0       2    2    0    0    0    0    0    0    0    0  ...    0    0    0   \n",
       "2.6       0    0    1    1    0    0    0    0    0    0  ...    0    0    0   \n",
       "2.7       0    0    0    0    1    0    0    0    0    0  ...    0    0    0   \n",
       "2.8       0    0    0    0    0    1    0    0    0    0  ...    0    0    0   \n",
       "2.8       0    0    0    0    0    1    0    0    0    0  ...    0    0    0   \n",
       "3.0       0    0    0    0    0    0    1    0    0    0  ...    0    0    0   \n",
       "3.1       0    0    0    0    0    0    0    2    0    0  ...    0    0    0   \n",
       "3.3       0    0    0    0    0    0    0    0    0    1  ...    0    0    0   \n",
       "3.4       0    0    0    0    0    0    0    0    1    0  ...    0    0    0   \n",
       "3.5       0    0    0    0    0    0    0    0    0    1  ...    0    0    0   \n",
       "3.9       0    0    0    0    0    0    0    0    0    0  ...    0    0    0   \n",
       "4.0       0    0    0    0    0    0    0    0    0    0  ...    0    1    0   \n",
       "4.1       0    0    0    0    0    0    0    0    0    0  ...    1    0    0   \n",
       "4.1       0    0    0    0    0    0    0    0    0    0  ...    0    0    0   \n",
       "4.2       0    0    0    0    0    0    0    0    0    0  ...    0    0    1   \n",
       "4.3       0    0    0    0    0    0    0    0    0    0  ...    0    0    1   \n",
       "4.4       0    0    0    0    0    0    0    0    0    0  ...    0    0    1   \n",
       "4.6       0    0    0    0    0    0    0    0    0    0  ...    0    0    0   \n",
       "4.7       0    0    0    0    0    0    0    0    0    0  ...    0    0    0   \n",
       "4.8       0    0    0    0    0    0    0    0    0    0  ...    0    0    0   \n",
       "4.8       0    0    0    0    0    0    0    0    0    0  ...    0    0    0   \n",
       "4.9       0    0    0    0    0    0    0    0    0    0  ...    0    0    0   \n",
       "5.1       0    0    0    0    0    0    0    0    0    0  ...    0    0    0   \n",
       "\n",
       "col_0   4.2  4.5  4.7  4.8  4.8  4.9  5.2  \n",
       "WEIGHT                                     \n",
       "1.8       0    0    0    0    0    0    0  \n",
       "1.9       0    0    0    0    0    0    0  \n",
       "2.0       0    0    0    0    0    0    0  \n",
       "2.6       0    0    0    0    0    0    0  \n",
       "2.7       0    0    0    0    0    0    0  \n",
       "2.8       0    0    0    0    0    0    0  \n",
       "2.8       0    0    0    0    0    0    0  \n",
       "3.0       0    0    0    0    0    0    0  \n",
       "3.1       0    0    0    0    0    0    0  \n",
       "3.3       0    0    0    0    0    0    0  \n",
       "3.4       0    0    0    0    0    0    0  \n",
       "3.5       0    0    0    0    0    0    0  \n",
       "3.9       0    0    0    0    0    0    0  \n",
       "4.0       0    0    0    0    0    0    0  \n",
       "4.1       0    0    0    0    0    0    0  \n",
       "4.1       1    0    0    0    0    0    0  \n",
       "4.2       0    0    0    0    0    0    0  \n",
       "4.3       0    0    0    0    0    0    0  \n",
       "4.4       0    2    0    0    0    0    0  \n",
       "4.6       0    0    0    1    0    0    0  \n",
       "4.7       0    0    1    2    0    0    0  \n",
       "4.8       0    0    0    2    0    0    0  \n",
       "4.8       0    0    0    0    1    0    0  \n",
       "4.9       0    0    0    0    0    1    0  \n",
       "5.1       0    0    0    0    0    0    1  \n",
       "\n",
       "[25 rows x 22 columns]"
      ]
     },
     "execution_count": 105,
     "metadata": {},
     "output_type": "execute_result"
    }
   ],
   "source": [
    "pd.crosstab(y_test,pred)"
   ]
  },
  {
   "cell_type": "code",
   "execution_count": 106,
   "id": "856e0ddc",
   "metadata": {},
   "outputs": [
    {
     "name": "stdout",
     "output_type": "stream",
     "text": [
      "Regression Report:\n",
      "Mean Absolute Error: 0.09166666666666656\n",
      "Mean Squared Error: 0.011944444444444417\n",
      "R-squared: 0.9886453657248482\n"
     ]
    }
   ],
   "source": [
    "from sklearn.metrics import mean_absolute_error, mean_squared_error, r2_score\n",
    "\n",
    "# Calculate regression metrics\n",
    "mae = mean_absolute_error(y_test, pred)\n",
    "mse = mean_squared_error(y_test, pred)\n",
    "r2 = r2_score(y_test, pred)\n",
    "\n",
    "# Print regression report\n",
    "print(\"Regression Report:\")\n",
    "print(f\"Mean Absolute Error: {mae}\")\n",
    "print(f\"Mean Squared Error: {mse}\")\n",
    "print(f\"R-squared: {r2}\")\n"
   ]
  },
  {
   "cell_type": "code",
   "execution_count": 107,
   "id": "29c2dcff",
   "metadata": {},
   "outputs": [
    {
     "name": "stdout",
     "output_type": "stream",
     "text": [
      "5/5 [==============================] - 2s 9ms/step - loss: 0.2176 - mean_absolute_error: 0.3658\n",
      "Test accuracy: 0.36582469940185547\n"
     ]
    }
   ],
   "source": [
    "# Evaluate the model\n",
    "loss, accuracy = model1.evaluate(x_train, y_train)\n",
    "print(f\"Test accuracy: {accuracy}\")"
   ]
  },
  {
   "cell_type": "code",
   "execution_count": 108,
   "id": "9163bb23",
   "metadata": {},
   "outputs": [
    {
     "name": "stdout",
     "output_type": "stream",
     "text": [
      "Epoch 1/50\n",
      "5/5 [==============================] - 1s 2ms/step - loss: 12.9009 - mean_absolute_error: 3.4314\n",
      "Epoch 2/50\n",
      "5/5 [==============================] - 0s 3ms/step - loss: 12.2516 - mean_absolute_error: 3.3381\n",
      "Epoch 3/50\n",
      "5/5 [==============================] - 0s 2ms/step - loss: 11.6129 - mean_absolute_error: 3.2441\n",
      "Epoch 4/50\n",
      "5/5 [==============================] - 0s 3ms/step - loss: 10.9962 - mean_absolute_error: 3.1501\n",
      "Epoch 5/50\n",
      "5/5 [==============================] - 0s 3ms/step - loss: 10.3907 - mean_absolute_error: 3.0554\n",
      "Epoch 6/50\n",
      "5/5 [==============================] - 0s 3ms/step - loss: 9.7818 - mean_absolute_error: 2.9576\n",
      "Epoch 7/50\n",
      "5/5 [==============================] - 0s 3ms/step - loss: 9.1890 - mean_absolute_error: 2.8575\n",
      "Epoch 8/50\n",
      "5/5 [==============================] - 0s 3ms/step - loss: 8.5729 - mean_absolute_error: 2.7515\n",
      "Epoch 9/50\n",
      "5/5 [==============================] - 0s 3ms/step - loss: 7.9790 - mean_absolute_error: 2.6432\n",
      "Epoch 10/50\n",
      "5/5 [==============================] - 0s 3ms/step - loss: 7.3554 - mean_absolute_error: 2.5299\n",
      "Epoch 11/50\n",
      "5/5 [==============================] - 0s 3ms/step - loss: 6.7630 - mean_absolute_error: 2.4121\n",
      "Epoch 12/50\n",
      "5/5 [==============================] - 0s 3ms/step - loss: 6.1536 - mean_absolute_error: 2.2877\n",
      "Epoch 13/50\n",
      "5/5 [==============================] - 0s 3ms/step - loss: 5.5695 - mean_absolute_error: 2.1555\n",
      "Epoch 14/50\n",
      "5/5 [==============================] - 0s 3ms/step - loss: 4.9819 - mean_absolute_error: 2.0211\n",
      "Epoch 15/50\n",
      "5/5 [==============================] - 0s 3ms/step - loss: 4.4134 - mean_absolute_error: 1.8825\n",
      "Epoch 16/50\n",
      "5/5 [==============================] - 0s 3ms/step - loss: 3.8735 - mean_absolute_error: 1.7451\n",
      "Epoch 17/50\n",
      "5/5 [==============================] - 0s 3ms/step - loss: 3.3764 - mean_absolute_error: 1.6130\n",
      "Epoch 18/50\n",
      "5/5 [==============================] - 0s 3ms/step - loss: 2.9196 - mean_absolute_error: 1.4790\n",
      "Epoch 19/50\n",
      "5/5 [==============================] - 0s 3ms/step - loss: 2.5146 - mean_absolute_error: 1.3571\n",
      "Epoch 20/50\n",
      "5/5 [==============================] - 0s 3ms/step - loss: 2.1455 - mean_absolute_error: 1.2425\n",
      "Epoch 21/50\n",
      "5/5 [==============================] - 0s 3ms/step - loss: 1.8455 - mean_absolute_error: 1.1409\n",
      "Epoch 22/50\n",
      "5/5 [==============================] - 0s 3ms/step - loss: 1.5850 - mean_absolute_error: 1.0462\n",
      "Epoch 23/50\n",
      "5/5 [==============================] - 0s 16ms/step - loss: 1.4046 - mean_absolute_error: 0.9799\n",
      "Epoch 24/50\n",
      "5/5 [==============================] - 0s 4ms/step - loss: 1.2407 - mean_absolute_error: 0.9150\n",
      "Epoch 25/50\n",
      "5/5 [==============================] - 0s 3ms/step - loss: 1.1192 - mean_absolute_error: 0.8701\n",
      "Epoch 26/50\n",
      "5/5 [==============================] - 0s 2ms/step - loss: 1.0402 - mean_absolute_error: 0.8329\n",
      "Epoch 27/50\n",
      "5/5 [==============================] - 0s 4ms/step - loss: 0.9709 - mean_absolute_error: 0.8023\n",
      "Epoch 28/50\n",
      "5/5 [==============================] - 0s 4ms/step - loss: 0.9323 - mean_absolute_error: 0.7845\n",
      "Epoch 29/50\n",
      "5/5 [==============================] - 0s 3ms/step - loss: 0.9023 - mean_absolute_error: 0.7710\n",
      "Epoch 30/50\n",
      "5/5 [==============================] - 0s 6ms/step - loss: 0.8743 - mean_absolute_error: 0.7577\n",
      "Epoch 31/50\n",
      "5/5 [==============================] - 0s 4ms/step - loss: 0.8502 - mean_absolute_error: 0.7463\n",
      "Epoch 32/50\n",
      "5/5 [==============================] - 0s 3ms/step - loss: 0.8306 - mean_absolute_error: 0.7362\n",
      "Epoch 33/50\n",
      "5/5 [==============================] - 0s 3ms/step - loss: 0.8109 - mean_absolute_error: 0.7267\n",
      "Epoch 34/50\n",
      "5/5 [==============================] - 0s 3ms/step - loss: 0.7899 - mean_absolute_error: 0.7170\n",
      "Epoch 35/50\n",
      "5/5 [==============================] - 0s 2ms/step - loss: 0.7706 - mean_absolute_error: 0.7081\n",
      "Epoch 36/50\n",
      "5/5 [==============================] - 0s 3ms/step - loss: 0.7500 - mean_absolute_error: 0.6987\n",
      "Epoch 37/50\n",
      "5/5 [==============================] - 0s 2ms/step - loss: 0.7316 - mean_absolute_error: 0.6901\n",
      "Epoch 38/50\n",
      "5/5 [==============================] - 0s 2ms/step - loss: 0.7111 - mean_absolute_error: 0.6804\n",
      "Epoch 39/50\n",
      "5/5 [==============================] - 0s 2ms/step - loss: 0.6930 - mean_absolute_error: 0.6712\n",
      "Epoch 40/50\n",
      "5/5 [==============================] - 0s 2ms/step - loss: 0.6738 - mean_absolute_error: 0.6620\n",
      "Epoch 41/50\n",
      "5/5 [==============================] - 0s 1ms/step - loss: 0.6555 - mean_absolute_error: 0.6528\n",
      "Epoch 42/50\n",
      "5/5 [==============================] - 0s 1ms/step - loss: 0.6372 - mean_absolute_error: 0.6433\n",
      "Epoch 43/50\n",
      "5/5 [==============================] - 0s 2ms/step - loss: 0.6184 - mean_absolute_error: 0.6335\n",
      "Epoch 44/50\n",
      "5/5 [==============================] - 0s 1ms/step - loss: 0.6001 - mean_absolute_error: 0.6238\n",
      "Epoch 45/50\n",
      "5/5 [==============================] - 0s 1ms/step - loss: 0.5807 - mean_absolute_error: 0.6137\n",
      "Epoch 46/50\n",
      "5/5 [==============================] - 0s 2ms/step - loss: 0.5609 - mean_absolute_error: 0.6036\n",
      "Epoch 47/50\n",
      "5/5 [==============================] - 0s 3ms/step - loss: 0.5422 - mean_absolute_error: 0.5933\n",
      "Epoch 48/50\n",
      "5/5 [==============================] - 0s 2ms/step - loss: 0.5228 - mean_absolute_error: 0.5822\n",
      "Epoch 49/50\n",
      "5/5 [==============================] - 0s 2ms/step - loss: 0.5043 - mean_absolute_error: 0.5714\n",
      "Epoch 50/50\n",
      "5/5 [==============================] - 0s 2ms/step - loss: 0.4844 - mean_absolute_error: 0.5598\n",
      "2/2 [==============================] - 0s 3ms/step - loss: 0.6460 - mean_absolute_error: 0.6733\n",
      "Mean Absolute Error: 0.6732581257820129\n"
     ]
    }
   ],
   "source": [
    "# Model 1: Neural Network\n",
    "model1 = keras.Sequential([\n",
    "    keras.layers.Input(shape=(x_train.shape[1],)),  # shape of the input data\n",
    "    keras.layers.Dense(64, activation='relu'),  # hidden layer\n",
    "    keras.layers.Dense(1)\n",
    "])\n",
    "\n",
    "model1.compile(\n",
    "    optimizer='adam',\n",
    "    loss='mean_squared_error',\n",
    "    metrics=['mean_absolute_error']\n",
    ")\n",
    "\n",
    "# Train the model\n",
    "model1.fit(x_train, y_train, epochs=50)\n",
    "\n",
    "# Evaluate the model\n",
    "loss, mae = model1.evaluate(x_test, y_test)\n",
    "print(f\"Mean Absolute Error: {mae}\")\n",
    "\n"
   ]
  },
  {
   "cell_type": "code",
   "execution_count": 109,
   "id": "feae7501",
   "metadata": {},
   "outputs": [
    {
     "name": "stdout",
     "output_type": "stream",
     "text": [
      "Random Forest Classifier Accuracy: 1.0\n"
     ]
    }
   ],
   "source": [
    "# Convert continuous labels to categorical labels using binning\n",
    "bins = np.linspace(0, 1, 10) # Define bin edges\n",
    "y_train_binned = np.digitize(y_train, bins) # Convert y_train into categorical labels\n",
    "y_test_binned = np.digitize(y_test, bins) # Convert y_test into categorical labels\n",
    "\n",
    "# Model 2: Random Forest Classifier\n",
    "model2 = RandomForestClassifier(n_estimators=100, random_state=42)\n",
    "model2.fit(x_train, y_train_binned)\n",
    "y_pred_rf = model2.predict(x_test)\n",
    "\n",
    "# Calculate accuracy\n",
    "accuracy_rf = accuracy_score(y_test_binned, y_pred_rf)\n",
    "print(f\"Random Forest Classifier Accuracy: {accuracy_rf}\")\n"
   ]
  },
  {
   "cell_type": "code",
   "execution_count": 110,
   "id": "58cbfdf4",
   "metadata": {},
   "outputs": [],
   "source": [
    "from sklearn.model_selection import train_test_split\n",
    "from sklearn.neighbors import KNeighborsRegressor\n",
    "\n",
    "# Split the data into training and test sets\n",
    "x_train, x_test, y_train, y_test = train_test_split(x, y, test_size=0.2, random_state=42)\n",
    "\n",
    "# Create the KNeighborsRegressor model\n",
    "model = KNeighborsRegressor(n_neighbors=5)\n",
    "\n",
    "# Fit the model\n",
    "model.fit(x_train, y_train)\n",
    "\n",
    "# Make predictions\n",
    "y_pred = model.predict(x_test)\n"
   ]
  },
  {
   "cell_type": "code",
   "execution_count": 111,
   "id": "9705bade",
   "metadata": {},
   "outputs": [
    {
     "name": "stdout",
     "output_type": "stream",
     "text": [
      "Logistic Regression Accuracy: 0.9444444444444444\n"
     ]
    }
   ],
   "source": [
    "# Convert the target variable to binary for Logistic Regression\n",
    "y_train_binary = np.where(y_train > np.mean(y_train), 1, 0)\n",
    "y_test_binary = np.where(y_test > np.mean(y_train), 1, 0)\n",
    "\n",
    "# Model 4: Logistic Regression\n",
    "model4 = LogisticRegression()\n",
    "model4.fit(x_train, y_train_binary)\n",
    "y_pred_lr = model4.predict(x_test)\n",
    "\n",
    "# Calculate accuracy\n",
    "accuracy_lr = accuracy_score(y_test_binary, y_pred_lr)\n",
    "print(f\"Logistic Regression Accuracy: {accuracy_lr}\")"
   ]
  },
  {
   "cell_type": "code",
   "execution_count": 112,
   "id": "a468102f",
   "metadata": {},
   "outputs": [],
   "source": [
    "# from sklearn.metrics import mean_squared_error\n",
    "\n",
    "# mse_dt = mean_squared_error(y_test, y_pred_dt)\n",
    "# print(f\"Decision Tree Regressor Mean Squared Error: {mse_dt}\")\n"
   ]
  },
  {
   "cell_type": "code",
   "execution_count": 113,
   "id": "4541c3dc",
   "metadata": {},
   "outputs": [
    {
     "name": "stdout",
     "output_type": "stream",
     "text": [
      "Predicted Weight: [1.7]\n"
     ]
    }
   ],
   "source": [
    "# Sample Input Data\n",
    "input_data = {'WIDTH': [3.2],\n",
    "              'BAYSPACINGS': [2.5],\n",
    "              'CLEARHEIGHT': [6.0],\n",
    "              'WINDSPEED': [10.0]\n",
    "              }\n",
    "\n",
    "# Create a DataFrame from the input data\n",
    "input_df = pd.DataFrame(input_data)\n",
    "\n",
    "# Preprocess the input data\n",
    "input_scaled = pd.DataFrame(ms.transform(input_df), columns=input_df.columns)\n",
    "\n",
    "# Predict the output using the trained Decision Tree Regressor model\n",
    "output_weight = dtr.predict(input_scaled)\n",
    "\n",
    "# Print the predicted output weight\n",
    "print(\"Predicted Weight:\", output_weight)\n"
   ]
  },
  {
   "cell_type": "code",
   "execution_count": 114,
   "id": "242db00d",
   "metadata": {},
   "outputs": [],
   "source": [
    "with open('your_model.pkl', 'wb') as f:\n",
    "    pickle.dump(model, f)"
   ]
  },
  {
   "cell_type": "code",
   "execution_count": 115,
   "id": "ba037e42",
   "metadata": {},
   "outputs": [
    {
     "name": "stdout",
     "output_type": "stream",
     "text": [
      "1.4.1.post1\n"
     ]
    }
   ],
   "source": [
    "import sklearn\n",
    "print(sklearn.__version__)\n"
   ]
  },
  {
   "cell_type": "code",
   "execution_count": 116,
   "id": "3e96b579",
   "metadata": {},
   "outputs": [
    {
     "name": "stdout",
     "output_type": "stream",
     "text": [
      "Requirement already satisfied: scikit-learn==1.4.1.post1 in c:\\users\\charutha murari s\\anaconda3\\lib\\site-packages (1.4.1.post1)\n",
      "Requirement already satisfied: numpy<2.0,>=1.19.5 in c:\\users\\charutha murari s\\anaconda3\\lib\\site-packages (from scikit-learn==1.4.1.post1) (1.24.3)\n",
      "Requirement already satisfied: scipy>=1.6.0 in c:\\users\\charutha murari s\\anaconda3\\lib\\site-packages (from scikit-learn==1.4.1.post1) (1.10.1)\n",
      "Requirement already satisfied: joblib>=1.2.0 in c:\\users\\charutha murari s\\anaconda3\\lib\\site-packages (from scikit-learn==1.4.1.post1) (1.2.0)\n",
      "Requirement already satisfied: threadpoolctl>=2.0.0 in c:\\users\\charutha murari s\\anaconda3\\lib\\site-packages (from scikit-learn==1.4.1.post1) (2.2.0)\n"
     ]
    }
   ],
   "source": [
    "!pip install scikit-learn==1.4.1.post1"
   ]
  },
  {
   "cell_type": "code",
   "execution_count": 117,
   "id": "a4623701",
   "metadata": {},
   "outputs": [
    {
     "name": "stdout",
     "output_type": "stream",
     "text": [
      "1.4.1.post1\n"
     ]
    }
   ],
   "source": [
    "print(sklearn.__version__)"
   ]
  },
  {
   "cell_type": "code",
   "execution_count": 55,
   "id": "e5336572",
   "metadata": {},
   "outputs": [
    {
     "name": "stdout",
     "output_type": "stream",
     "text": [
      "1.4.1.post1\n"
     ]
    }
   ],
   "source": [
    "print(sklearn.__version__)"
   ]
  },
  {
   "cell_type": "code",
   "execution_count": 56,
   "id": "7432930a",
   "metadata": {},
   "outputs": [
    {
     "name": "stdout",
     "output_type": "stream",
     "text": [
      "Requirement already satisfied: scikit-learn==1.4.1.post1 in c:\\users\\charutha murari s\\anaconda3\\lib\\site-packages (1.4.1.post1)\n",
      "Requirement already satisfied: numpy<2.0,>=1.19.5 in c:\\users\\charutha murari s\\anaconda3\\lib\\site-packages (from scikit-learn==1.4.1.post1) (1.24.3)\n",
      "Requirement already satisfied: scipy>=1.6.0 in c:\\users\\charutha murari s\\anaconda3\\lib\\site-packages (from scikit-learn==1.4.1.post1) (1.10.1)\n",
      "Requirement already satisfied: joblib>=1.2.0 in c:\\users\\charutha murari s\\anaconda3\\lib\\site-packages (from scikit-learn==1.4.1.post1) (1.2.0)\n",
      "Requirement already satisfied: threadpoolctl>=2.0.0 in c:\\users\\charutha murari s\\anaconda3\\lib\\site-packages (from scikit-learn==1.4.1.post1) (2.2.0)\n",
      "Note: you may need to restart the kernel to use updated packages.\n"
     ]
    }
   ],
   "source": [
    "pip install scikit-learn==1.4.1.post1"
   ]
  },
  {
   "cell_type": "code",
   "execution_count": 57,
   "id": "0be95b9f",
   "metadata": {},
   "outputs": [
    {
     "name": "stdout",
     "output_type": "stream",
     "text": [
      "1.4.1.post1\n"
     ]
    }
   ],
   "source": [
    "import sklearn\n",
    "print(sklearn.__version__)"
   ]
  },
  {
   "cell_type": "code",
   "execution_count": 118,
   "id": "d8395094",
   "metadata": {},
   "outputs": [],
   "source": [
    "from sklearn.feature_extraction.text import TfidfVectorizer\n",
    "from joblib import dump # Only needed if you're using joblib to save the vectorizer\n"
   ]
  },
  {
   "cell_type": "code",
   "execution_count": 119,
   "id": "3d123158",
   "metadata": {},
   "outputs": [],
   "source": [
    "corpus = [\n",
    "    'This is the first document.',\n",
    "    'This document is the second document.',\n",
    "    'And this is the third one.',\n",
    "    'Is this the first document?'\n",
    "]\n"
   ]
  },
  {
   "cell_type": "code",
   "execution_count": 120,
   "id": "b9e7f28e",
   "metadata": {},
   "outputs": [],
   "source": [
    "vectorizer = TfidfVectorizer()\n",
    "X = vectorizer.fit_transform(corpus)\n"
   ]
  },
  {
   "cell_type": "code",
   "execution_count": 121,
   "id": "3ce9549c",
   "metadata": {},
   "outputs": [],
   "source": [
    "import pickle\n",
    "\n",
    "with open('tfidf_vectorizer.pkl', 'wb') as f:\n",
    "    pickle.dump(vectorizer, f)\n"
   ]
  },
  {
   "cell_type": "code",
   "execution_count": 122,
   "id": "f9e8e502",
   "metadata": {},
   "outputs": [],
   "source": [
    "column_names = ['WIDTH', 'BAYSPACINGS', 'CLEARHEIGHT', 'WINDSPEED']\n",
    "import pickle\n",
    "\n",
    "with open('column_names.pkl', 'wb') as f:\n",
    "    pickle.dump(column_names, f)\n"
   ]
  },
  {
   "cell_type": "code",
   "execution_count": 123,
   "id": "7b89078d",
   "metadata": {},
   "outputs": [
    {
     "name": "stdout",
     "output_type": "stream",
     "text": [
      "Requirement already satisfied: joblib in c:\\users\\charutha murari s\\anaconda3\\lib\\site-packages (1.2.0)\n",
      "Note: you may need to restart the kernel to use updated packages.\n"
     ]
    }
   ],
   "source": [
    "pip install joblib"
   ]
  },
  {
   "cell_type": "code",
   "execution_count": 124,
   "id": "f7d9620c",
   "metadata": {},
   "outputs": [
    {
     "data": {
      "text/plain": [
       "['dtr_model.joblib']"
      ]
     },
     "execution_count": 124,
     "metadata": {},
     "output_type": "execute_result"
    }
   ],
   "source": [
    "from joblib import dump\n",
    "\n",
    "# Assuming 'dtr' is your Decision Tree Regressor model\n",
    "dump(dtr, 'dtr_model.joblib')\n"
   ]
  },
  {
   "cell_type": "code",
   "execution_count": 125,
   "id": "18f72724",
   "metadata": {},
   "outputs": [
    {
     "data": {
      "text/plain": [
       "['model1_model.joblib']"
      ]
     },
     "execution_count": 125,
     "metadata": {},
     "output_type": "execute_result"
    }
   ],
   "source": [
    "# Assuming 'model1' is your Neural Network model\n",
    "dump(model1, 'model1_model.joblib')\n"
   ]
  },
  {
   "cell_type": "code",
   "execution_count": 126,
   "id": "3ebd37e8",
   "metadata": {},
   "outputs": [
    {
     "data": {
      "text/plain": [
       "['model2_model.joblib']"
      ]
     },
     "execution_count": 126,
     "metadata": {},
     "output_type": "execute_result"
    }
   ],
   "source": [
    "# Assuming 'model2' is your Random Forest Classifier model\n",
    "dump(model2, 'model2_model.joblib')\n"
   ]
  },
  {
   "cell_type": "code",
   "execution_count": 127,
   "id": "dff2badb",
   "metadata": {},
   "outputs": [
    {
     "data": {
      "text/plain": [
       "['model_knn.joblib']"
      ]
     },
     "execution_count": 127,
     "metadata": {},
     "output_type": "execute_result"
    }
   ],
   "source": [
    "# Assuming 'model' is your KNeighborsRegressor model\n",
    "dump(model, 'model_knn.joblib')\n"
   ]
  },
  {
   "cell_type": "code",
   "execution_count": 128,
   "id": "7a12e3e3",
   "metadata": {},
   "outputs": [
    {
     "data": {
      "text/plain": [
       "['model4_model.joblib']"
      ]
     },
     "execution_count": 128,
     "metadata": {},
     "output_type": "execute_result"
    }
   ],
   "source": [
    "# Assuming 'model4' is your Logistic Regression model\n",
    "dump(model4, 'model4_model.joblib')\n"
   ]
  },
  {
   "cell_type": "code",
   "execution_count": 129,
   "id": "94ca0a12",
   "metadata": {},
   "outputs": [
    {
     "data": {
      "text/plain": [
       "['tfidf_vectorizer.joblib']"
      ]
     },
     "execution_count": 129,
     "metadata": {},
     "output_type": "execute_result"
    }
   ],
   "source": [
    "# Assuming 'vectorizer' is your TF-IDF Vectorizer\n",
    "dump(vectorizer, 'tfidf_vectorizer.joblib')\n"
   ]
  },
  {
   "cell_type": "code",
   "execution_count": 130,
   "id": "9f5773b6",
   "metadata": {},
   "outputs": [
    {
     "data": {
      "text/plain": [
       "['column_names.joblib']"
      ]
     },
     "execution_count": 130,
     "metadata": {},
     "output_type": "execute_result"
    }
   ],
   "source": [
    "# Assuming 'column_names' is your list of column names\n",
    "dump(column_names, 'column_names.joblib')\n"
   ]
  },
  {
   "cell_type": "code",
   "execution_count": 131,
   "id": "8f568bd7",
   "metadata": {},
   "outputs": [],
   "source": [
    "from joblib import load\n",
    "\n",
    "# Load the Decision Tree Regressor model\n",
    "dtr = load('dtr_model.joblib')\n",
    "dtr = load('model1_model.joblib')\n",
    "dtr = load('model2_model.joblib')\n",
    "dtr = load('model_knn.joblib')\n",
    "dtr = load('model4_model.joblib')\n",
    "dtr = load('tfidf_vectorizer.joblib')\n",
    "dtr = load('column_names.joblib')\n"
   ]
  },
  {
   "cell_type": "code",
   "execution_count": 132,
   "id": "cf2c7590",
   "metadata": {},
   "outputs": [
    {
     "name": "stdout",
     "output_type": "stream",
     "text": [
      "['WIDTH', 'BAYSPACINGS', 'CLEARHEIGHT', 'WINDSPEED']\n"
     ]
    }
   ],
   "source": [
    "column_names = ['WIDTH', 'BAYSPACINGS', 'CLEARHEIGHT', 'WINDSPEED']    \n",
    "# Load the column names from the file\n",
    "column_names = load('column_names.joblib')\n",
    "\n",
    "# Now, 'column_names' contains the list of column names you previously saved\n",
    "print(column_names)\n"
   ]
  },
  {
   "cell_type": "code",
   "execution_count": 133,
   "id": "f0066f89",
   "metadata": {},
   "outputs": [
    {
     "data": {
      "text/plain": [
       "['ms_scaler.joblib']"
      ]
     },
     "execution_count": 133,
     "metadata": {},
     "output_type": "execute_result"
    }
   ],
   "source": [
    "import joblib\n",
    "from sklearn.preprocessing import MinMaxScaler\n",
    "\n",
    "# Assuming x_train is your training data\n",
    "# Fit MinMaxScaler to your training data\n",
    "scaler = MinMaxScaler()\n",
    "scaler.fit(x_train)\n",
    "\n",
    "# Save the fitted MinMaxScaler object to a file\n",
    "joblib.dump(scaler, 'ms_scaler.joblib')\n"
   ]
  },
  {
   "cell_type": "code",
   "execution_count": 135,
   "id": "88cdc5d2",
   "metadata": {},
   "outputs": [
    {
     "name": "stdout",
     "output_type": "stream",
     "text": [
      "Mean Squared Error: 0.01611111111111109\n",
      "R2 Score: 0.9846844467916557\n",
      "Predicted Weight: [2.2]\n"
     ]
    }
   ],
   "source": [
    "import pandas as pd\n",
    "from sklearn.model_selection import train_test_split\n",
    "from sklearn.preprocessing import MinMaxScaler\n",
    "from sklearn.tree import DecisionTreeRegressor\n",
    "from sklearn.metrics import mean_squared_error, r2_score\n",
    "import joblib\n",
    "\n",
    "# Load and preprocess the data\n",
    "df = pd.read_excel(\"AI.xlsx\")\n",
    "x = df.iloc[:, 0:4] # Consider 1st to 4th column\n",
    "y = df.WEIGHT\n",
    "\n",
    "# Scale the data\n",
    "scaler = MinMaxScaler()\n",
    "x_scaled = pd.DataFrame(scaler.fit_transform(x), columns=x.columns)\n",
    "\n",
    "# Split the data into training and test sets\n",
    "x_train, x_test, y_train, y_test = train_test_split(x_scaled, y, test_size=0.2, random_state=0)\n",
    "\n",
    "# Train the Decision Tree Regressor model\n",
    "dtr = DecisionTreeRegressor()\n",
    "dtr.fit(x_train, y_train)\n",
    "\n",
    "# Predict on the test data\n",
    "y_pred = dtr.predict(x_test)\n",
    "\n",
    "# Evaluate the model\n",
    "mse = mean_squared_error(y_test, y_pred)\n",
    "r2 = r2_score(y_test, y_pred)\n",
    "print(\"Mean Squared Error:\", mse)\n",
    "print(\"R2 Score:\", r2)\n",
    "\n",
    "# Save the model and scaler\n",
    "joblib.dump(dtr, 'dtr_model.joblib')\n",
    "joblib.dump(scaler, 'ms_scaler.joblib')\n",
    "\n",
    "# Load the model and scaler for prediction\n",
    "dtr = joblib.load('dtr_model.joblib')\n",
    "scaler = joblib.load('ms_scaler.joblib')\n",
    "\n",
    "# Sample input data for prediction\n",
    "input_data = {'WIDTH': [10], 'BAYSPACINGS': [8], 'CLEARHEIGHT': [12], 'WINDSPEED': [40]}\n",
    "input_df = pd.DataFrame(input_data)\n",
    "\n",
    "# Preprocess the input data\n",
    "input_scaled = pd.DataFrame(scaler.transform(input_df), columns=input_df.columns)\n",
    "\n",
    "# Predict the output using the trained Decision Tree Regressor model\n",
    "output_weight = dtr.predict(input_scaled)\n",
    "print(\"Predicted Weight:\", output_weight)\n"
   ]
  },
  {
   "cell_type": "code",
   "execution_count": null,
   "id": "0549d88c",
   "metadata": {},
   "outputs": [],
   "source": []
  }
 ],
 "metadata": {
  "kernelspec": {
   "display_name": "Python 3 (ipykernel)",
   "language": "python",
   "name": "python3"
  },
  "language_info": {
   "codemirror_mode": {
    "name": "ipython",
    "version": 3
   },
   "file_extension": ".py",
   "mimetype": "text/x-python",
   "name": "python",
   "nbconvert_exporter": "python",
   "pygments_lexer": "ipython3",
   "version": "3.11.3"
  }
 },
 "nbformat": 4,
 "nbformat_minor": 5
}
